{
 "cells": [
  {
   "cell_type": "code",
   "execution_count": 16,
   "id": "446c9fbd",
   "metadata": {},
   "outputs": [],
   "source": [
    "import pandas as pd\n",
    "import matplotlib.pyplot as plt\n",
    "from sklearn import metrics"
   ]
  },
  {
   "cell_type": "markdown",
   "id": "5795f983",
   "metadata": {},
   "source": [
    "# Classifier Models"
   ]
  },
  {
   "cell_type": "code",
   "execution_count": 2,
   "id": "ad04496f",
   "metadata": {},
   "outputs": [
    {
     "data": {
      "text/html": [
       "<div>\n",
       "<style scoped>\n",
       "    .dataframe tbody tr th:only-of-type {\n",
       "        vertical-align: middle;\n",
       "    }\n",
       "\n",
       "    .dataframe tbody tr th {\n",
       "        vertical-align: top;\n",
       "    }\n",
       "\n",
       "    .dataframe thead th {\n",
       "        text-align: right;\n",
       "    }\n",
       "</style>\n",
       "<table border=\"1\" class=\"dataframe\">\n",
       "  <thead>\n",
       "    <tr style=\"text-align: right;\">\n",
       "      <th></th>\n",
       "      <th>diameter</th>\n",
       "      <th>cancer</th>\n",
       "      <th>prediction</th>\n",
       "    </tr>\n",
       "  </thead>\n",
       "  <tbody>\n",
       "    <tr>\n",
       "      <th>0</th>\n",
       "      <td>6.309685</td>\n",
       "      <td>False</td>\n",
       "      <td>False</td>\n",
       "    </tr>\n",
       "    <tr>\n",
       "      <th>1</th>\n",
       "      <td>4.580894</td>\n",
       "      <td>False</td>\n",
       "      <td>False</td>\n",
       "    </tr>\n",
       "    <tr>\n",
       "      <th>2</th>\n",
       "      <td>6.310071</td>\n",
       "      <td>False</td>\n",
       "      <td>False</td>\n",
       "    </tr>\n",
       "    <tr>\n",
       "      <th>3</th>\n",
       "      <td>7.495139</td>\n",
       "      <td>False</td>\n",
       "      <td>True</td>\n",
       "    </tr>\n",
       "    <tr>\n",
       "      <th>4</th>\n",
       "      <td>2.216181</td>\n",
       "      <td>False</td>\n",
       "      <td>False</td>\n",
       "    </tr>\n",
       "    <tr>\n",
       "      <th>...</th>\n",
       "      <td>...</td>\n",
       "      <td>...</td>\n",
       "      <td>...</td>\n",
       "    </tr>\n",
       "    <tr>\n",
       "      <th>995</th>\n",
       "      <td>7.831124</td>\n",
       "      <td>False</td>\n",
       "      <td>True</td>\n",
       "    </tr>\n",
       "    <tr>\n",
       "      <th>996</th>\n",
       "      <td>4.614356</td>\n",
       "      <td>False</td>\n",
       "      <td>False</td>\n",
       "    </tr>\n",
       "    <tr>\n",
       "      <th>997</th>\n",
       "      <td>6.988584</td>\n",
       "      <td>False</td>\n",
       "      <td>False</td>\n",
       "    </tr>\n",
       "    <tr>\n",
       "      <th>998</th>\n",
       "      <td>1.367865</td>\n",
       "      <td>False</td>\n",
       "      <td>False</td>\n",
       "    </tr>\n",
       "    <tr>\n",
       "      <th>999</th>\n",
       "      <td>3.982651</td>\n",
       "      <td>False</td>\n",
       "      <td>False</td>\n",
       "    </tr>\n",
       "  </tbody>\n",
       "</table>\n",
       "<p>1000 rows × 3 columns</p>\n",
       "</div>"
      ],
      "text/plain": [
       "     diameter  cancer  prediction\n",
       "0    6.309685   False       False\n",
       "1    4.580894   False       False\n",
       "2    6.310071   False       False\n",
       "3    7.495139   False        True\n",
       "4    2.216181   False       False\n",
       "..        ...     ...         ...\n",
       "995  7.831124   False        True\n",
       "996  4.614356   False       False\n",
       "997  6.988584   False       False\n",
       "998  1.367865   False       False\n",
       "999  3.982651   False       False\n",
       "\n",
       "[1000 rows x 3 columns]"
      ]
     },
     "execution_count": 2,
     "metadata": {},
     "output_type": "execute_result"
    }
   ],
   "source": [
    "df = pd.read_csv('CANCER_TABLE.csv').rename(columns={'diameter (cm)': 'diameter', ' cancer': 'cancer'})\n",
    "df['prediction'] = df.diameter > 7\n",
    "df"
   ]
  },
  {
   "cell_type": "code",
   "execution_count": 3,
   "id": "439f233e",
   "metadata": {},
   "outputs": [],
   "source": [
    "def get_confusion_matrix(df):\n",
    "    confusion_matrix = df.groupby(['cancer', 'prediction']).size().unstack(0).fillna(0)\\\n",
    "        .sort_index(ascending=False).sort_index(axis=1, ascending=False)\n",
    "    return confusion_matrix\n",
    "\n",
    "confusion_matrix = get_confusion_matrix(df)"
   ]
  },
  {
   "cell_type": "code",
   "execution_count": 4,
   "id": "c348f697",
   "metadata": {},
   "outputs": [
    {
     "name": "stdout",
     "output_type": "stream",
     "text": [
      "TP =  193.0\n",
      "TN =  689.0\n",
      "FP =  118.0\n",
      "FN =  0.0\n",
      "accuracy is 88.20%\n",
      "precision is 62.06%\n",
      "recall is 100.00%\n",
      "f1 score is 76.59%\n"
     ]
    }
   ],
   "source": [
    "TP = confusion_matrix.loc[True, True]\n",
    "TN = confusion_matrix.loc[False, False]\n",
    "FP = confusion_matrix.loc[True, False]\n",
    "FN = confusion_matrix.loc[False, True]\n",
    "\n",
    "print('TP = ', TP)\n",
    "print('TN = ', TN)\n",
    "print('FP = ', FP)\n",
    "print('FN = ', FN)\n",
    "\n",
    "accuracy = (TP + TN) / (confusion_matrix.sum().sum())\n",
    "precision = (TP / (TP + FP))\n",
    "recall = (TP / (TP + FN))\n",
    "f1 = 2 * precision * recall / (precision + recall)\n",
    "\n",
    "print(f'accuracy is {accuracy:.2%}')\n",
    "print(f'precision is {precision:.2%}')\n",
    "print(f'recall is {recall:.2%}')\n",
    "print(f'f1 score is {f1:.2%}')"
   ]
  },
  {
   "cell_type": "markdown",
   "id": "f30c48ca",
   "metadata": {},
   "source": [
    "TP cancer patients "
   ]
  },
  {
   "cell_type": "code",
   "execution_count": 5,
   "id": "6d8c5216",
   "metadata": {},
   "outputs": [
    {
     "name": "stdout",
     "output_type": "stream",
     "text": [
      "accuracy is 88.20%\n",
      "precision is 62.06%\n",
      "recall is 100.00%\n",
      "f1 score is 76.59%\n"
     ]
    }
   ],
   "source": [
    "accuracy = (TP + TN) / (confusion_matrix.sum().sum())\n",
    "precision = (TP / (TP + FP))\n",
    "recall = (TP / (TP + FN))\n",
    "f1 = 2 * precision * recall / (precision + recall)\n",
    "\n",
    "print(f'accuracy is {accuracy:.2%}')\n",
    "print(f'precision is {precision:.2%}')\n",
    "print(f'recall is {recall:.2%}')\n",
    "print(f'f1 score is {f1:.2%}')"
   ]
  },
  {
   "cell_type": "markdown",
   "id": "c6ff7019",
   "metadata": {},
   "source": [
    "# Ranking Model"
   ]
  },
  {
   "cell_type": "markdown",
   "id": "ac1aac7a",
   "metadata": {},
   "source": [
    "The value in a ranking model over a classifier is that it allows one to shift the decision value so that a wanted value of recall/precision is achieved."
   ]
  },
  {
   "cell_type": "code",
   "execution_count": 6,
   "id": "3da1f148",
   "metadata": {},
   "outputs": [],
   "source": [
    "def get_fpr(confusion_matrix):\n",
    "    if False not in confusion_matrix.index:\n",
    "        return 1\n",
    "    TN = confusion_matrix.loc[False, False]\n",
    "    FP = confusion_matrix.loc[True, False]\n",
    "    return FP / (FP + TN)\n",
    "\n",
    "def get_tpr(confusion_matrix):\n",
    "    if False not in confusion_matrix.index:\n",
    "        return 1\n",
    "    TP = confusion_matrix.loc[True, True]\n",
    "    FN = confusion_matrix.loc[False, True]\n",
    "    return TP / (TP + FN)"
   ]
  },
  {
   "cell_type": "code",
   "execution_count": 7,
   "id": "3c6d56a6",
   "metadata": {},
   "outputs": [],
   "source": [
    "fpr_list = [0]\n",
    "tpr_list = [0]\n",
    "\n",
    "df.prediction = False\n",
    "for d in sorted(df.diameter, reverse=True):\n",
    "    df.loc[df.diameter >= d, 'prediction'] = True\n",
    "    confusion_matrix = get_confusion_matrix(df)\n",
    "    fpr_list.append(get_fpr(confusion_matrix))\n",
    "    tpr_list.append(get_tpr(confusion_matrix))"
   ]
  },
  {
   "cell_type": "code",
   "execution_count": 8,
   "id": "ae1fc71a",
   "metadata": {},
   "outputs": [],
   "source": [
    "df = df.sort_values('diameter', ascending=False, ignore_index=True)"
   ]
  },
  {
   "cell_type": "code",
   "execution_count": 9,
   "id": "22377257",
   "metadata": {},
   "outputs": [
    {
     "data": {
      "image/png": "[encoded data removed]",
      "text/plain": [
       "<Figure size 432x288 with 1 Axes>"
      ]
     },
     "metadata": {
      "needs_background": "light"
     },
     "output_type": "display_data"
    }
   ],
   "source": [
    "plt.plot(fpr_list, tpr_list, label='ROC Curve')\n",
    "plt.plot([0, 1], [0, 1], '--', color='grey')\n",
    "plt.legend()\n",
    "plt.title('ROC Curve')\n",
    "plt.xlabel('False Positive Rate')\n",
    "plt.ylabel('True Positive Rate')\n",
    "plt.show()"
   ]
  },
  {
   "cell_type": "code",
   "execution_count": 10,
   "id": "d4ec9edd",
   "metadata": {},
   "outputs": [
    {
     "data": {
      "text/plain": [
       "1.0"
      ]
     },
     "execution_count": 10,
     "metadata": {},
     "output_type": "execute_result"
    }
   ],
   "source": [
    "def compute_auc(fpr_list, tpr_list):\n",
    "    auc = 0 \n",
    "    for i in range(len(fpr_list) - 1):\n",
    "        auc += (tpr_list[i + 1] + tpr_list[i]) * (fpr_list[i + 1] - fpr_list[i]) / 2\n",
    "    return auc\n",
    "\n",
    "compute_auc(fpr_list, tpr_list)"
   ]
  },
  {
   "cell_type": "markdown",
   "id": "8643853d",
   "metadata": {},
   "source": [
    "In terms of AUC, this is a very good model, i.e. it has a 100% of currectly classifying a random positive sample.\n",
    "\n",
    "In order to turn the model to a classification model, I'll choose the maximal diameter value that achieves 100% TPR as the threshold, that way we reach the maximal FPR."
   ]
  },
  {
   "cell_type": "code",
   "execution_count": 11,
   "id": "a3afd0b6",
   "metadata": {},
   "outputs": [
    {
     "name": "stdout",
     "output_type": "stream",
     "text": [
      "8.02744867175\n"
     ]
    }
   ],
   "source": [
    "df.prediction = False\n",
    "for d in sorted(df.diameter, reverse=True):\n",
    "    df.loc[df.diameter >= d, 'prediction'] = True\n",
    "    confusion_matrix = get_confusion_matrix(df)\n",
    "    tpr = get_tpr(confusion_matrix)\n",
    "    if tpr == 1:\n",
    "        break\n",
    "threshold = d\n",
    "print(d)\n",
    "df.loc[df.diameter >= threshold, 'prediction'] = True"
   ]
  },
  {
   "cell_type": "code",
   "execution_count": 12,
   "id": "7a5e013d",
   "metadata": {},
   "outputs": [
    {
     "data": {
      "text/html": [
       "<div>\n",
       "<style scoped>\n",
       "    .dataframe tbody tr th:only-of-type {\n",
       "        vertical-align: middle;\n",
       "    }\n",
       "\n",
       "    .dataframe tbody tr th {\n",
       "        vertical-align: top;\n",
       "    }\n",
       "\n",
       "    .dataframe thead th {\n",
       "        text-align: right;\n",
       "    }\n",
       "</style>\n",
       "<table border=\"1\" class=\"dataframe\">\n",
       "  <thead>\n",
       "    <tr style=\"text-align: right;\">\n",
       "      <th>cancer</th>\n",
       "      <th>True</th>\n",
       "      <th>False</th>\n",
       "    </tr>\n",
       "    <tr>\n",
       "      <th>prediction</th>\n",
       "      <th></th>\n",
       "      <th></th>\n",
       "    </tr>\n",
       "  </thead>\n",
       "  <tbody>\n",
       "    <tr>\n",
       "      <th>True</th>\n",
       "      <td>193.0</td>\n",
       "      <td>0.0</td>\n",
       "    </tr>\n",
       "    <tr>\n",
       "      <th>False</th>\n",
       "      <td>0.0</td>\n",
       "      <td>807.0</td>\n",
       "    </tr>\n",
       "  </tbody>\n",
       "</table>\n",
       "</div>"
      ],
      "text/plain": [
       "cancer       True  False\n",
       "prediction              \n",
       "True        193.0    0.0\n",
       "False         0.0  807.0"
      ]
     },
     "execution_count": 12,
     "metadata": {},
     "output_type": "execute_result"
    }
   ],
   "source": [
    "confusion_matrix = get_confusion_matrix(df)\n",
    "confusion_matrix"
   ]
  },
  {
   "cell_type": "code",
   "execution_count": 13,
   "id": "c511a2ac",
   "metadata": {},
   "outputs": [
    {
     "name": "stdout",
     "output_type": "stream",
     "text": [
      "TP =  193.0\n",
      "TN =  807.0\n",
      "FP =  0.0\n",
      "FN =  0.0\n",
      "accuracy is 100.00%\n",
      "precision is 100.00%\n",
      "recall is 100.00%\n",
      "f1 score is 100.00%\n"
     ]
    }
   ],
   "source": [
    "TP = confusion_matrix.loc[True, True]\n",
    "TN = confusion_matrix.loc[False, False]\n",
    "FP = confusion_matrix.loc[True, False]\n",
    "FN = confusion_matrix.loc[False, True]\n",
    "\n",
    "print('TP = ', TP)\n",
    "print('TN = ', TN)\n",
    "print('FP = ', FP)\n",
    "print('FN = ', FN)\n",
    "\n",
    "accuracy = (TP + TN) / (confusion_matrix.sum().sum())\n",
    "precision = (TP / (TP + FP))\n",
    "recall = (TP / (TP + FN))\n",
    "f1 = 2 * precision * recall / (precision + recall)\n",
    "\n",
    "print(f'accuracy is {accuracy:.2%}')\n",
    "print(f'precision is {precision:.2%}')\n",
    "print(f'recall is {recall:.2%}')\n",
    "print(f'f1 score is {f1:.2%}')"
   ]
  },
  {
   "cell_type": "markdown",
   "id": "5b7a4537",
   "metadata": {},
   "source": [
    "This model is vastly superior to the previous one, as it reaches 100% on all metrics."
   ]
  },
  {
   "cell_type": "code",
   "execution_count": 17,
   "id": "88637a4c",
   "metadata": {},
   "outputs": [
    {
     "data": {
      "text/plain": [
       "(array([0., 0., 0., 1.]),\n",
       " array([0.        , 0.00518135, 1.        , 1.        ]),\n",
       " array([10.99468786,  9.99468786,  8.02744867,  0.0592936 ]))"
      ]
     },
     "execution_count": 17,
     "metadata": {},
     "output_type": "execute_result"
    }
   ],
   "source": [
    "fprs, tprs, _ = metrics.roc_curve(df.cancer, df.diameter)\n"
   ]
  }
 ],
 "metadata": {
  "kernelspec": {
   "display_name": "Python 3 (ipykernel)",
   "language": "python",
   "name": "python3"
  },
  "language_info": {
   "codemirror_mode": {
    "name": "ipython",
    "version": 3
   },
   "file_extension": ".py",
   "mimetype": "text/x-python",
   "name": "python",
   "nbconvert_exporter": "python",
   "pygments_lexer": "ipython3",
   "version": "3.9.7"
  }
 },
 "nbformat": 4,
 "nbformat_minor": 5
}
