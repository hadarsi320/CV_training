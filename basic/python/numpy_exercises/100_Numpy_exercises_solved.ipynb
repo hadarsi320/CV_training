{
 "cells": [
  {
   "cell_type": "markdown",
   "id": "ad1d1330",
   "metadata": {},
   "source": [
    "# 100 numpy exercises\n",
    "\n",
    "This is a collection of exercises that have been collected in the numpy mailing list, on stack overflow\n",
    "and in the numpy documentation. The goal of this collection is to offer a quick reference for both old\n",
    "and new users but also to provide a set of exercises for those who teach.\n",
    "\n",
    "\n",
    "If you find an error or think you've a better way to solve some of them, feel\n",
    "free to open an issue at <https://github.com/rougier/numpy-100>."
   ]
  },
  {
   "cell_type": "markdown",
   "id": "1d620162",
   "metadata": {},
   "source": [
    "File automatically generated. See the documentation to update questions/answers/hints programmatically."
   ]
  },
  {
   "cell_type": "markdown",
   "id": "8574d627",
   "metadata": {},
   "source": [
    "Run the `initialize.py` module, then for each question you can query the\n",
    "answer or an hint with `hint(n)` or `answer(n)` for `n` question number."
   ]
  },
  {
   "cell_type": "code",
   "execution_count": 106,
   "id": "c6fe8a29",
   "metadata": {},
   "outputs": [],
   "source": [
    "%run initialise.py"
   ]
  },
  {
   "cell_type": "markdown",
   "id": "954c5d8f",
   "metadata": {},
   "source": [
    "#### 1. Import the numpy package under the name `np` (★☆☆)"
   ]
  },
  {
   "cell_type": "code",
   "execution_count": 107,
   "id": "4006c08e",
   "metadata": {},
   "outputs": [],
   "source": [
    "import numpy as np"
   ]
  },
  {
   "cell_type": "markdown",
   "id": "88e34f09",
   "metadata": {},
   "source": [
    "#### 2. Print the numpy version and the configuration (★☆☆)"
   ]
  },
  {
   "cell_type": "code",
   "execution_count": 108,
   "id": "b1122a25",
   "metadata": {},
   "outputs": [
    {
     "name": "stdout",
     "output_type": "stream",
     "text": [
      "blas_mkl_info:\n",
      "    libraries = ['mkl_rt']\n",
      "    library_dirs = ['C:/Users/hadar/anaconda3\\\\Library\\\\lib']\n",
      "    define_macros = [('SCIPY_MKL_H', None), ('HAVE_CBLAS', None)]\n",
      "    include_dirs = ['C:/Users/hadar/anaconda3\\\\Library\\\\include']\n",
      "blas_opt_info:\n",
      "    libraries = ['mkl_rt']\n",
      "    library_dirs = ['C:/Users/hadar/anaconda3\\\\Library\\\\lib']\n",
      "    define_macros = [('SCIPY_MKL_H', None), ('HAVE_CBLAS', None)]\n",
      "    include_dirs = ['C:/Users/hadar/anaconda3\\\\Library\\\\include']\n",
      "lapack_mkl_info:\n",
      "    libraries = ['mkl_rt']\n",
      "    library_dirs = ['C:/Users/hadar/anaconda3\\\\Library\\\\lib']\n",
      "    define_macros = [('SCIPY_MKL_H', None), ('HAVE_CBLAS', None)]\n",
      "    include_dirs = ['C:/Users/hadar/anaconda3\\\\Library\\\\include']\n",
      "lapack_opt_info:\n",
      "    libraries = ['mkl_rt']\n",
      "    library_dirs = ['C:/Users/hadar/anaconda3\\\\Library\\\\lib']\n",
      "    define_macros = [('SCIPY_MKL_H', None), ('HAVE_CBLAS', None)]\n",
      "    include_dirs = ['C:/Users/hadar/anaconda3\\\\Library\\\\include']\n"
     ]
    }
   ],
   "source": [
    "np.__version__\n",
    "np.show_config()"
   ]
  },
  {
   "cell_type": "markdown",
   "id": "37c21848",
   "metadata": {},
   "source": [
    "#### 3. Create a null vector of size 10 (★☆☆)"
   ]
  },
  {
   "cell_type": "code",
   "execution_count": 108,
   "id": "e090a462",
   "metadata": {},
   "outputs": [],
   "source": []
  },
  {
   "cell_type": "markdown",
   "id": "7c0e6add",
   "metadata": {},
   "source": [
    "#### 4. How to find the memory size of any array (★☆☆)"
   ]
  },
  {
   "cell_type": "code",
   "execution_count": 109,
   "id": "8c96715d",
   "metadata": {},
   "outputs": [
    {
     "name": "stdout",
     "output_type": "stream",
     "text": [
      "40\n"
     ]
    }
   ],
   "source": [
    "x = np.random.randn(5)\n",
    "print(x.nbytes)"
   ]
  },
  {
   "cell_type": "markdown",
   "id": "4cf547db",
   "metadata": {},
   "source": [
    "#### 5. How to get the documentation of the numpy add function from the command line? (★☆☆)"
   ]
  },
  {
   "cell_type": "code",
   "execution_count": 109,
   "id": "2a24a1e9",
   "metadata": {},
   "outputs": [],
   "source": []
  },
  {
   "cell_type": "markdown",
   "id": "bf6679c3",
   "metadata": {},
   "source": [
    "#### 6. Create a null vector of size 10 but the fifth value which is 1 (★☆☆)"
   ]
  },
  {
   "cell_type": "code",
   "execution_count": 110,
   "id": "f4cd59b6",
   "metadata": {},
   "outputs": [
    {
     "data": {
      "text/plain": "array([0., 0., 0., 0., 1., 0., 0., 0., 0., 0.])"
     },
     "execution_count": 110,
     "metadata": {},
     "output_type": "execute_result"
    }
   ],
   "source": [
    "x = np.zeros(10)\n",
    "x[4] = 1\n",
    "x"
   ]
  },
  {
   "cell_type": "markdown",
   "id": "022451fb",
   "metadata": {},
   "source": [
    "#### 7. Create a vector with values ranging from 10 to 49 (★☆☆)"
   ]
  },
  {
   "cell_type": "code",
   "execution_count": 110,
   "id": "22c2f0a8",
   "metadata": {},
   "outputs": [],
   "source": []
  },
  {
   "cell_type": "markdown",
   "id": "aca8f6ee",
   "metadata": {},
   "source": [
    "#### 8. Reverse a vector (first element becomes last) (★☆☆)"
   ]
  },
  {
   "cell_type": "code",
   "execution_count": 111,
   "id": "15f37616",
   "metadata": {},
   "outputs": [
    {
     "name": "stdout",
     "output_type": "stream",
     "text": [
      "[0 1 2 3 4 5 6 7 8 9]\n",
      "[9 8 7 6 5 4 3 2 1 0]\n"
     ]
    }
   ],
   "source": [
    "x = np.arange(10)\n",
    "print(x)\n",
    "print(x[::-1])"
   ]
  },
  {
   "cell_type": "markdown",
   "id": "97bfddd4",
   "metadata": {},
   "source": [
    "#### 9. Create a 3x3 matrix with values ranging from 0 to 8 (★☆☆)"
   ]
  },
  {
   "cell_type": "code",
   "execution_count": 111,
   "id": "8b93d83c",
   "metadata": {},
   "outputs": [],
   "source": []
  },
  {
   "cell_type": "markdown",
   "id": "a073dad0",
   "metadata": {},
   "source": [
    "#### 10. Find indices of non-zero elements from [1,2,0,0,4,0] (★☆☆)"
   ]
  },
  {
   "cell_type": "code",
   "execution_count": 112,
   "id": "c21fb91c",
   "metadata": {},
   "outputs": [
    {
     "name": "stdout",
     "output_type": "stream",
     "text": [
      "(array([0, 1, 4], dtype=int64),)\n"
     ]
    }
   ],
   "source": [
    "x = [1,2,0,0,4,0]\n",
    "print(np.nonzero(x))"
   ]
  },
  {
   "cell_type": "markdown",
   "id": "82b9a7a0",
   "metadata": {},
   "source": [
    "#### 11. Create a 3x3 identity matrix (★☆☆)"
   ]
  },
  {
   "cell_type": "code",
   "execution_count": 112,
   "id": "7ce1325a",
   "metadata": {},
   "outputs": [],
   "source": []
  },
  {
   "cell_type": "markdown",
   "id": "0e6364d3",
   "metadata": {},
   "source": [
    "#### 12. Create a 3x3x3 array with random values (★☆☆)"
   ]
  },
  {
   "cell_type": "code",
   "execution_count": 113,
   "id": "8139c1c8",
   "metadata": {},
   "outputs": [
    {
     "name": "stdout",
     "output_type": "stream",
     "text": [
      "[[[0.38560822 0.38863751 0.0283424 ]\n",
      "  [0.32810568 0.09699421 0.73990613]\n",
      "  [0.92411322 0.81482873 0.7253207 ]]\n",
      "\n",
      " [[0.96477025 0.0302462  0.01065444]\n",
      "  [0.44157962 0.62348938 0.66154115]\n",
      "  [0.10649357 0.24365441 0.11319257]]\n",
      "\n",
      " [[0.30007552 0.97820967 0.49061937]\n",
      "  [0.14079875 0.822735   0.42737485]\n",
      "  [0.67589364 0.04659963 0.20847764]]]\n"
     ]
    }
   ],
   "source": [
    "print(np.random.random((3,3,3)))"
   ]
  },
  {
   "cell_type": "markdown",
   "id": "49ef36a6",
   "metadata": {},
   "source": [
    "#### 13. Create a 10x10 array with random values and find the minimum and maximum values (★☆☆)"
   ]
  },
  {
   "cell_type": "code",
   "execution_count": 113,
   "id": "5b4c73c7",
   "metadata": {},
   "outputs": [],
   "source": []
  },
  {
   "cell_type": "markdown",
   "id": "625eb243",
   "metadata": {},
   "source": [
    "#### 14. Create a random vector of size 30 and find the mean value (★☆☆)"
   ]
  },
  {
   "cell_type": "code",
   "execution_count": 114,
   "id": "ba7b8300",
   "metadata": {},
   "outputs": [
    {
     "data": {
      "text/plain": "0.6538691690922599"
     },
     "execution_count": 114,
     "metadata": {},
     "output_type": "execute_result"
    }
   ],
   "source": [
    "np.random.random(30).mean()"
   ]
  },
  {
   "cell_type": "markdown",
   "id": "19540b2f",
   "metadata": {},
   "source": [
    "#### 15. Create a 2d array with 1 on the border and 0 inside (★☆☆)"
   ]
  },
  {
   "cell_type": "code",
   "execution_count": 114,
   "id": "19e78d2c",
   "metadata": {},
   "outputs": [],
   "source": []
  },
  {
   "cell_type": "markdown",
   "id": "3f0fe171",
   "metadata": {},
   "source": [
    "#### 16. How to add a border (filled with 0's) around an existing array? (★☆☆)"
   ]
  },
  {
   "cell_type": "code",
   "execution_count": 115,
   "id": "662a99b4",
   "metadata": {},
   "outputs": [
    {
     "data": {
      "text/plain": "array([[0, 0, 0, 0, 0],\n       [0, 1, 2, 3, 0],\n       [0, 4, 5, 6, 0],\n       [0, 7, 8, 9, 0],\n       [0, 0, 0, 0, 0]])"
     },
     "execution_count": 115,
     "metadata": {},
     "output_type": "execute_result"
    }
   ],
   "source": [
    "x = np.arange(1, 10).reshape((3,3))\n",
    "np.pad(x, 1)"
   ]
  },
  {
   "cell_type": "markdown",
   "id": "0464c4af",
   "metadata": {},
   "source": [
    "#### 17. What is the result of the following expression? (★☆☆)\n",
    "```python\n",
    "0 * np.nan\n",
    "np.nan == np.nan\n",
    "np.inf > np.nan\n",
    "np.nan - np.nan\n",
    "np.nan in set([np.nan])\n",
    "0.3 == 3 * 0.1\n",
    "```"
   ]
  },
  {
   "cell_type": "code",
   "execution_count": 115,
   "id": "18926a29",
   "metadata": {},
   "outputs": [],
   "source": []
  },
  {
   "cell_type": "markdown",
   "id": "afb90e8b",
   "metadata": {},
   "source": [
    "#### 18. Create a 5x5 matrix with values 1,2,3,4 just below the diagonal (★☆☆)"
   ]
  },
  {
   "cell_type": "code",
   "execution_count": 116,
   "id": "8a988102",
   "metadata": {},
   "outputs": [
    {
     "data": {
      "text/plain": "array([[0, 0, 0, 0, 0],\n       [1, 0, 0, 0, 0],\n       [0, 2, 0, 0, 0],\n       [0, 0, 3, 0, 0],\n       [0, 0, 0, 4, 0]])"
     },
     "execution_count": 116,
     "metadata": {},
     "output_type": "execute_result"
    }
   ],
   "source": [
    "x = np.diag([1, 2, 3, 4], -1)\n",
    "x"
   ]
  },
  {
   "cell_type": "markdown",
   "id": "ca611f9e",
   "metadata": {},
   "source": [
    "#### 19. Create a 8x8 matrix and fill it with a checkerboard pattern (★☆☆)"
   ]
  },
  {
   "cell_type": "code",
   "execution_count": 116,
   "id": "24049fc7",
   "metadata": {},
   "outputs": [],
   "source": []
  },
  {
   "cell_type": "markdown",
   "id": "9b77f7af",
   "metadata": {},
   "source": [
    "#### 20. Consider a (6,7,8) shape array, what is the index (x,y,z) of the 100th element? (★☆☆)"
   ]
  },
  {
   "cell_type": "code",
   "execution_count": 117,
   "outputs": [
    {
     "data": {
      "text/plain": "(1, 5, 3)"
     },
     "execution_count": 117,
     "metadata": {},
     "output_type": "execute_result"
    }
   ],
   "source": [
    "np.unravel_index(99, (6, 7, 8))"
   ],
   "metadata": {
    "collapsed": false
   }
  },
  {
   "cell_type": "markdown",
   "id": "07e399b8",
   "metadata": {},
   "source": [
    "#### 21. Create a checkerboard 8x8 matrix using the tile function (★☆☆)"
   ]
  },
  {
   "cell_type": "code",
   "execution_count": 117,
   "id": "867964a9",
   "metadata": {},
   "outputs": [],
   "source": []
  },
  {
   "cell_type": "markdown",
   "id": "bc92d88a",
   "metadata": {},
   "source": [
    "#### 22. Normalize a 5x5 random matrix (★☆☆)"
   ]
  },
  {
   "cell_type": "code",
   "execution_count": 118,
   "id": "a3709496",
   "metadata": {},
   "outputs": [
    {
     "data": {
      "text/plain": "array([[-1.59384808,  0.65861812,  1.11616519, -0.35565536,  0.01821764],\n       [ 0.4260025 ,  0.54401381, -0.69592584, -0.36687859,  1.53929578],\n       [ 0.19434094, -0.62480743, -1.04428793,  1.04467338, -0.83104081],\n       [ 0.78140274,  1.32396311,  0.75736075, -1.64446523, -1.55252537],\n       [ 0.70126374, -0.56710176,  1.54008364,  0.2410391 , -1.60990403]])"
     },
     "execution_count": 118,
     "metadata": {},
     "output_type": "execute_result"
    }
   ],
   "source": [
    "x = np.random.random((5, 5))\n",
    "x = (x - x.mean()) / x.std()\n",
    "x"
   ]
  },
  {
   "cell_type": "markdown",
   "id": "9e2fd8ce",
   "metadata": {},
   "source": [
    "#### 23. Create a custom dtype that describes a color as four unsigned bytes (RGBA) (★☆☆)"
   ]
  },
  {
   "cell_type": "code",
   "execution_count": 118,
   "id": "5881b2b5",
   "metadata": {},
   "outputs": [],
   "source": []
  },
  {
   "cell_type": "markdown",
   "id": "d6904ab9",
   "metadata": {},
   "source": [
    "#### 24. Multiply a 5x3 matrix by a 3x2 matrix (real matrix product) (★☆☆)"
   ]
  },
  {
   "cell_type": "code",
   "execution_count": 119,
   "id": "cb3b6528",
   "metadata": {},
   "outputs": [
    {
     "data": {
      "text/plain": "array([[0.74275183, 0.48345731],\n       [0.36687849, 0.2926177 ],\n       [0.81997087, 0.44707137],\n       [0.58431164, 0.52076191],\n       [1.03359053, 0.64698503]])"
     },
     "execution_count": 119,
     "metadata": {},
     "output_type": "execute_result"
    }
   ],
   "source": [
    "mat1 = np.random.random((5,3))\n",
    "mat2 = np.random.random((3, 2))\n",
    "res = mat1 @ mat2\n",
    "res"
   ]
  },
  {
   "cell_type": "markdown",
   "id": "c57116dd",
   "metadata": {},
   "source": [
    "#### 25. Given a 1D array, negate all elements which are between 3 and 8, in place. (★☆☆)"
   ]
  },
  {
   "cell_type": "code",
   "execution_count": 119,
   "id": "4fbf1b1e",
   "metadata": {},
   "outputs": [],
   "source": []
  },
  {
   "cell_type": "markdown",
   "id": "52707d61",
   "metadata": {},
   "source": [
    "#### 26. What is the output of the following script? (★☆☆)\n",
    "```python\n",
    "# Author: Jake VanderPlas\n",
    "\n",
    "print(sum(range(5),-1))\n",
    "from numpy import *\n",
    "print(sum(range(5),-1))\n",
    "```"
   ]
  },
  {
   "cell_type": "markdown",
   "source": [
    "9\n",
    "10"
   ],
   "metadata": {
    "collapsed": false
   }
  },
  {
   "cell_type": "markdown",
   "id": "5ab377fd",
   "metadata": {},
   "source": [
    "#### 27. Consider an integer vector Z, which of these expressions are legal? (★☆☆)\n",
    "```python\n",
    "Z**Z\n",
    "2 << Z >> 2\n",
    "Z <- Z\n",
    "1j*Z\n",
    "Z/1/1\n",
    "Z<Z>Z\n",
    "```"
   ]
  },
  {
   "cell_type": "code",
   "execution_count": 119,
   "id": "36cc66a9",
   "metadata": {},
   "outputs": [],
   "source": []
  },
  {
   "cell_type": "markdown",
   "id": "654f223f",
   "metadata": {},
   "source": [
    "#### 28. What are the result of the following expressions? (★☆☆)\n",
    "```python\n",
    "np.array(0) / np.array(0)\n",
    "np.array(0) // np.array(0)\n",
    "np.array([np.nan]).astype(int).astype(float)\n",
    "```"
   ]
  },
  {
   "cell_type": "markdown",
   "source": [
    "nan\n",
    "0"
   ],
   "metadata": {
    "collapsed": false
   }
  },
  {
   "cell_type": "markdown",
   "id": "a7e00adf",
   "metadata": {},
   "source": [
    "#### 29. How to round away from zero a float array ? (★☆☆)"
   ]
  },
  {
   "cell_type": "code",
   "execution_count": 119,
   "id": "6ee5777d",
   "metadata": {},
   "outputs": [],
   "source": []
  },
  {
   "cell_type": "markdown",
   "id": "56be1f05",
   "metadata": {},
   "source": [
    "#### 30. How to find common values between two arrays? (★☆☆)"
   ]
  },
  {
   "cell_type": "code",
   "execution_count": 120,
   "id": "62eeedc0",
   "metadata": {},
   "outputs": [
    {
     "name": "stdout",
     "output_type": "stream",
     "text": [
      "[0 6 2 1 7]\n",
      "[2 2 8 6 7]\n",
      "[2 6 7]\n"
     ]
    }
   ],
   "source": [
    "x1 = np.random.randint(0, 10, size=5)\n",
    "x2 = np.random.randint(0, 10, size=5)\n",
    "print(x1)\n",
    "print(x2)\n",
    "print(np.intersect1d(x1, x2))"
   ]
  },
  {
   "cell_type": "markdown",
   "id": "83567c5c",
   "metadata": {},
   "source": [
    "#### 31. How to ignore all numpy warnings (not recommended)? (★☆☆)"
   ]
  },
  {
   "cell_type": "code",
   "execution_count": 120,
   "id": "fa02b423",
   "metadata": {},
   "outputs": [],
   "source": []
  },
  {
   "cell_type": "markdown",
   "id": "0a7449b6",
   "metadata": {},
   "source": [
    "#### 32. Is the following expressions true? (★☆☆)\n",
    "```python\n",
    "np.sqrt(-1) == np.emath.sqrt(-1)\n",
    "```"
   ]
  },
  {
   "cell_type": "markdown",
   "source": [
    "nope"
   ],
   "metadata": {
    "collapsed": false
   }
  },
  {
   "cell_type": "markdown",
   "id": "9d434219",
   "metadata": {},
   "source": [
    "#### 33. How to get the dates of yesterday, today and tomorrow? (★☆☆)"
   ]
  },
  {
   "cell_type": "code",
   "execution_count": 120,
   "id": "0b192943",
   "metadata": {},
   "outputs": [],
   "source": []
  },
  {
   "cell_type": "markdown",
   "id": "b0e44339",
   "metadata": {},
   "source": [
    "#### 34. How to get all the dates corresponding to the month of July 2016? (★★☆)"
   ]
  },
  {
   "cell_type": "code",
   "execution_count": 121,
   "id": "8bf7daa6",
   "metadata": {},
   "outputs": [
    {
     "data": {
      "text/plain": "array(['2016-07-01', '2016-07-02', '2016-07-03', '2016-07-04',\n       '2016-07-05', '2016-07-06', '2016-07-07', '2016-07-08',\n       '2016-07-09', '2016-07-10', '2016-07-11', '2016-07-12',\n       '2016-07-13', '2016-07-14', '2016-07-15', '2016-07-16',\n       '2016-07-17', '2016-07-18', '2016-07-19', '2016-07-20',\n       '2016-07-21', '2016-07-22', '2016-07-23', '2016-07-24',\n       '2016-07-25', '2016-07-26', '2016-07-27', '2016-07-28',\n       '2016-07-29', '2016-07-30', '2016-07-31'], dtype='datetime64[D]')"
     },
     "execution_count": 121,
     "metadata": {},
     "output_type": "execute_result"
    }
   ],
   "source": [
    "np.arange('2016-07', '2016-08', dtype='datetime64[D]')"
   ]
  },
  {
   "cell_type": "markdown",
   "id": "f9b3c24a",
   "metadata": {},
   "source": [
    "#### 35. How to compute ((A+B)*(-A/2)) in place (without copy)? (★★☆)"
   ]
  },
  {
   "cell_type": "code",
   "execution_count": 121,
   "id": "40da18c9",
   "metadata": {},
   "outputs": [],
   "source": []
  },
  {
   "cell_type": "markdown",
   "id": "cbb64ee9",
   "metadata": {},
   "source": [
    "#### 36. Extract the integer part of a random array of positive numbers using 4 different methods (★★☆)"
   ]
  },
  {
   "cell_type": "code",
   "execution_count": 122,
   "id": "f83748bd",
   "metadata": {},
   "outputs": [
    {
     "name": "stdout",
     "output_type": "stream",
     "text": [
      "[8.13905544 3.46107415 0.15665742 9.71792717 0.93078131]\n",
      "[8 3 0 9 0]\n",
      "[8. 3. 0. 9. 0.]\n",
      "[8. 3. 0. 9. 0.]\n",
      "[8. 3. 0. 9. 0.]\n",
      "[8. 3. 0. 9. 0.]\n"
     ]
    }
   ],
   "source": [
    "x = np.random.random(5) * 10\n",
    "print(x)\n",
    "print(x.astype(int))\n",
    "print(np.floor(x))\n",
    "print(np.modf(x)[1])\n",
    "print(x - x % 1)\n",
    "print(np.trunc(x))"
   ]
  },
  {
   "cell_type": "markdown",
   "id": "8418e1e4",
   "metadata": {},
   "source": [
    "#### 37. Create a 5x5 matrix with row values ranging from 0 to 4 (★★☆)"
   ]
  },
  {
   "cell_type": "code",
   "execution_count": 122,
   "id": "08e726e4",
   "metadata": {},
   "outputs": [],
   "source": []
  },
  {
   "cell_type": "markdown",
   "id": "a8420e2c",
   "metadata": {},
   "source": [
    "#### 38. Consider a generator function that generates 10 integers and use it to build an array (★☆☆)"
   ]
  },
  {
   "cell_type": "code",
   "execution_count": 123,
   "id": "c58e77ad",
   "metadata": {},
   "outputs": [
    {
     "data": {
      "text/plain": "array([0.06828913, 0.68119294, 0.37732356, 0.60379832, 0.14826706,\n       0.89400446, 0.94761965, 0.59785677, 0.73490424, 0.24603802])"
     },
     "execution_count": 123,
     "metadata": {},
     "output_type": "execute_result"
    }
   ],
   "source": [
    "def gen():\n",
    "    for i in range(10):\n",
    "        yield np.random.random()\n",
    "\n",
    "np.array(list(gen()))"
   ]
  },
  {
   "cell_type": "markdown",
   "id": "deab3e77",
   "metadata": {},
   "source": [
    "#### 39. Create a vector of size 10 with values ranging from 0 to 1, both excluded (★★☆)"
   ]
  },
  {
   "cell_type": "code",
   "execution_count": 123,
   "id": "2c5fafc8",
   "metadata": {},
   "outputs": [],
   "source": []
  },
  {
   "cell_type": "markdown",
   "id": "5bb5de9c",
   "metadata": {},
   "source": [
    "#### 40. Create a random vector of size 10 and sort it (★★☆)"
   ]
  },
  {
   "cell_type": "code",
   "execution_count": 124,
   "id": "b9916965",
   "metadata": {},
   "outputs": [
    {
     "name": "stdout",
     "output_type": "stream",
     "text": [
      "[0.5099167  0.76094321 0.39521927 0.62817698 0.79176646 0.4579072\n",
      " 0.57785819 0.03971255 0.44428937 0.10096747]\n",
      "[0.03971255 0.10096747 0.39521927 0.44428937 0.4579072  0.5099167\n",
      " 0.57785819 0.62817698 0.76094321 0.79176646]\n"
     ]
    }
   ],
   "source": [
    "x = np.random.random(10)\n",
    "print(x)\n",
    "x.sort()\n",
    "print(x)"
   ]
  },
  {
   "cell_type": "markdown",
   "id": "ebc8ad64",
   "metadata": {},
   "source": [
    "#### 41. How to sum a small array faster than np.sum? (★★☆)"
   ]
  },
  {
   "cell_type": "code",
   "execution_count": 124,
   "id": "e7ac9923",
   "metadata": {},
   "outputs": [],
   "source": []
  },
  {
   "cell_type": "markdown",
   "id": "4abfb753",
   "metadata": {},
   "source": [
    "#### 42. Consider two random array A and B, check if they are equal (★★☆)"
   ]
  },
  {
   "cell_type": "code",
   "execution_count": 125,
   "id": "d265b5f6",
   "metadata": {},
   "outputs": [
    {
     "data": {
      "text/plain": "False"
     },
     "execution_count": 125,
     "metadata": {},
     "output_type": "execute_result"
    }
   ],
   "source": [
    "A = np.random.random(5)\n",
    "B = np.random.random(5)\n",
    "np.array_equal(A,B)"
   ]
  },
  {
   "cell_type": "markdown",
   "id": "c8fad2be",
   "metadata": {},
   "source": [
    "#### 43. Make an array immutable (read-only) (★★☆)"
   ]
  },
  {
   "cell_type": "code",
   "execution_count": 125,
   "id": "cadce095",
   "metadata": {},
   "outputs": [],
   "source": []
  },
  {
   "cell_type": "markdown",
   "id": "91b25fb1",
   "metadata": {},
   "source": [
    "#### 44. Consider a random 10x2 matrix representing cartesian coordinates, convert them to polar coordinates (★★☆)"
   ]
  },
  {
   "cell_type": "code",
   "execution_count": 126,
   "id": "3f5fb344",
   "metadata": {},
   "outputs": [
    {
     "name": "stdout",
     "output_type": "stream",
     "text": [
      "[[0.69023371 0.17093219]\n",
      " [0.16456285 0.09218228]\n",
      " [0.29323694 0.08797236]\n",
      " [0.35330334 0.05609653]\n",
      " [0.13394089 0.43892066]\n",
      " [0.6230396  0.30351325]\n",
      " [0.22976598 0.88620708]\n",
      " [0.96231693 0.34361185]\n",
      " [0.17129074 0.46095371]\n",
      " [0.8821048  0.53970361]]\n",
      "[[0.71108395 0.24275996]\n",
      " [0.18862266 0.51061361]\n",
      " [0.30614872 0.2914608 ]\n",
      " [0.35772905 0.1574628 ]\n",
      " [0.4589025  1.27461262]\n",
      " [0.69303582 0.45331423]\n",
      " [0.91550827 1.31711315]\n",
      " [1.02182336 0.34295688]\n",
      " [0.49175079 1.21500915]\n",
      " [1.0341126  0.54907713]]\n"
     ]
    }
   ],
   "source": [
    "x = np.random.random([10, 2])\n",
    "print(x)\n",
    "z = np.zeros_like(x)\n",
    "z[:, 0] = (x ** 2).sum(1) ** 0.5\n",
    "z[:, 1] = np.arctan(x[:, 1] / x[:, 0])\n",
    "print(z)"
   ]
  },
  {
   "cell_type": "markdown",
   "id": "7e4116bc",
   "metadata": {},
   "source": [
    "#### 45. Create random vector of size 10 and replace the maximum value by 0 (★★☆)"
   ]
  },
  {
   "cell_type": "code",
   "execution_count": 126,
   "id": "b4e895f6",
   "metadata": {},
   "outputs": [],
   "source": []
  },
  {
   "cell_type": "markdown",
   "id": "f5b68c55",
   "metadata": {},
   "source": [
    "#### 46. Create a structured array with `x` and `y` coordinates covering the [0,1]x[0,1] area (★★☆)"
   ]
  },
  {
   "cell_type": "code",
   "execution_count": 127,
   "outputs": [
    {
     "name": "stdout",
     "output_type": "stream",
     "text": [
      "[[(0.  , 0.  ) (0.25, 0.  ) (0.5 , 0.  ) (0.75, 0.  ) (1.  , 0.  )]\n",
      " [(0.  , 0.25) (0.25, 0.25) (0.5 , 0.25) (0.75, 0.25) (1.  , 0.25)]\n",
      " [(0.  , 0.5 ) (0.25, 0.5 ) (0.5 , 0.5 ) (0.75, 0.5 ) (1.  , 0.5 )]\n",
      " [(0.  , 0.75) (0.25, 0.75) (0.5 , 0.75) (0.75, 0.75) (1.  , 0.75)]\n",
      " [(0.  , 1.  ) (0.25, 1.  ) (0.5 , 1.  ) (0.75, 1.  ) (1.  , 1.  )]]\n"
     ]
    }
   ],
   "source": [
    "Z = np.zeros((5,5), [('x',float),('y',float)])\n",
    "Z['x'], Z['y'] = np.meshgrid(np.linspace(0,1,5),\n",
    "                             np.linspace(0,1,5))\n",
    "print(Z)"
   ],
   "metadata": {
    "collapsed": false
   }
  },
  {
   "cell_type": "markdown",
   "id": "378bc4e9",
   "metadata": {},
   "source": [
    "#### 47. Given two arrays, X and Y, construct the Cauchy matrix C (Cij =1/(xi - yj)) (★★☆)"
   ]
  },
  {
   "cell_type": "code",
   "execution_count": 127,
   "id": "43282e51",
   "metadata": {},
   "outputs": [],
   "source": []
  },
  {
   "cell_type": "markdown",
   "id": "7f45d2f9",
   "metadata": {},
   "source": [
    "#### 48. Print the minimum and maximum representable value for each numpy scalar type (★★☆)"
   ]
  },
  {
   "cell_type": "code",
   "execution_count": 128,
   "id": "a7f37b9e",
   "metadata": {},
   "outputs": [
    {
     "name": "stdout",
     "output_type": "stream",
     "text": [
      "<class 'numpy.int8'>\n",
      "-128\n",
      "127\n",
      "<class 'numpy.int32'>\n",
      "-2147483648\n",
      "2147483647\n",
      "<class 'numpy.int64'>\n",
      "-9223372036854775808\n",
      "9223372036854775807\n",
      "<class 'numpy.float32'>\n",
      "-3.4028235e+38\n",
      "3.4028235e+38\n",
      "<class 'numpy.float64'>\n",
      "-1.7976931348623157e+308\n",
      "1.7976931348623157e+308\n"
     ]
    }
   ],
   "source": [
    "for dtype in [np.int8, np.int32, np.int64]:\n",
    "   print(dtype)\n",
    "   print(np.iinfo(dtype).min)\n",
    "   print(np.iinfo(dtype).max)\n",
    "for dtype in [np.float32, np.float64]:\n",
    "   print(dtype)\n",
    "   print(np.finfo(dtype).min)\n",
    "   print(np.finfo(dtype).max)"
   ]
  },
  {
   "cell_type": "markdown",
   "id": "1d269f07",
   "metadata": {},
   "source": [
    "#### 49. How to print all the values of an array? (★★☆)"
   ]
  },
  {
   "cell_type": "code",
   "execution_count": 128,
   "id": "fde90b07",
   "metadata": {},
   "outputs": [],
   "source": []
  },
  {
   "cell_type": "markdown",
   "id": "ed655678",
   "metadata": {},
   "source": [
    "#### 50. How to find the closest value (to a given scalar) in a vector? (★★☆)"
   ]
  },
  {
   "cell_type": "code",
   "execution_count": 129,
   "id": "55e0812f",
   "metadata": {},
   "outputs": [
    {
     "data": {
      "text/plain": "0.09919158765712333"
     },
     "execution_count": 129,
     "metadata": {},
     "output_type": "execute_result"
    }
   ],
   "source": [
    "x = np.random.random(100)\n",
    "p = 0.1\n",
    "i = ((x - p) ** 2).argmin()\n",
    "x[i]"
   ]
  },
  {
   "cell_type": "markdown",
   "id": "3f73f88f",
   "metadata": {},
   "source": [
    "#### 51. Create a structured array representing a position (x,y) and a color (r,g,b) (★★☆)"
   ]
  },
  {
   "cell_type": "code",
   "execution_count": 129,
   "id": "74b51105",
   "metadata": {},
   "outputs": [],
   "source": []
  },
  {
   "cell_type": "markdown",
   "id": "db83eee0",
   "metadata": {},
   "source": [
    "#### 52. Consider a random vector with shape (100,2) representing coordinates, find point by point distances (★★☆)"
   ]
  },
  {
   "cell_type": "code",
   "execution_count": 130,
   "id": "10884922",
   "metadata": {},
   "outputs": [],
   "source": [
    "Z = np.random.random((100, 2))\n",
    "X = np.atleast_2d(Z[:, 0])\n",
    "Y = np.atleast_2d(Z[:, 1])\n",
    "D = ((X - X.T) ** 2 + (Y - Y.T) ** 2) ** 0.5"
   ]
  },
  {
   "cell_type": "markdown",
   "id": "b90e0bb2",
   "metadata": {},
   "source": [
    "#### 53. How to convert a float (32 bits) array into an integer (32 bits) in place?"
   ]
  },
  {
   "cell_type": "code",
   "execution_count": 130,
   "id": "db97ea05",
   "metadata": {},
   "outputs": [],
   "source": []
  },
  {
   "cell_type": "markdown",
   "id": "0d1b021c",
   "metadata": {},
   "source": [
    "#### 54. How to read the following file? (★★☆)\n",
    "```\n",
    "1, 2, 3, 4, 5\n",
    "6,  ,  , 7, 8\n",
    " ,  , 9,10,11\n",
    "```"
   ]
  },
  {
   "cell_type": "code",
   "execution_count": 131,
   "id": "9551928e",
   "metadata": {},
   "outputs": [
    {
     "data": {
      "text/plain": "array([[ 1.,  2.,  3.,  4.,  5.],\n       [ 6., nan, nan,  7.,  8.],\n       [nan, nan,  9., 10., 11.]])"
     },
     "execution_count": 131,
     "metadata": {},
     "output_type": "execute_result"
    }
   ],
   "source": [
    "gen = \"\"\"1, 2, 3, 4, 5\n",
    "6,  ,  , 7, 8\n",
    " ,  , 9,10,11\n",
    "\"\"\".split('\\n')\n",
    "np.genfromtxt(gen, delimiter=',')"
   ]
  },
  {
   "cell_type": "markdown",
   "id": "56928772",
   "metadata": {},
   "source": [
    "#### 55. What is the equivalent of enumerate for numpy arrays? (★★☆)"
   ]
  },
  {
   "cell_type": "code",
   "execution_count": 131,
   "id": "327d9b88",
   "metadata": {},
   "outputs": [],
   "source": []
  },
  {
   "cell_type": "markdown",
   "id": "257e0bac",
   "metadata": {},
   "source": [
    "#### 56. Generate a generic 2D Gaussian-like array (★★☆)"
   ]
  },
  {
   "cell_type": "code",
   "execution_count": 132,
   "id": "1325d664",
   "metadata": {},
   "outputs": [
    {
     "name": "stdout",
     "output_type": "stream",
     "text": [
      "[[0.36787944 0.53526143 0.60653066 0.53526143 0.36787944]\n",
      " [0.53526143 0.77880078 0.8824969  0.77880078 0.53526143]\n",
      " [0.60653066 0.8824969  1.         0.8824969  0.60653066]\n",
      " [0.53526143 0.77880078 0.8824969  0.77880078 0.53526143]\n",
      " [0.36787944 0.53526143 0.60653066 0.53526143 0.36787944]]\n"
     ]
    }
   ],
   "source": [
    "mu = 0\n",
    "sigma = 1\n",
    "X, Y = np.meshgrid(np.linspace(-1,1,5), np.linspace(-1,1,5))\n",
    "D = np.sqrt(X ** 2 + Y ** 2)\n",
    "G = np.exp(-( (D-mu)**2 / ( 2.0 * sigma**2 ) ) )\n",
    "print(G)"
   ]
  },
  {
   "cell_type": "markdown",
   "id": "441347ee",
   "metadata": {},
   "source": [
    "#### 57. How to randomly place p elements in a 2D array? (★★☆)"
   ]
  },
  {
   "cell_type": "code",
   "execution_count": 132,
   "id": "1e61fce5",
   "metadata": {},
   "outputs": [],
   "source": []
  },
  {
   "cell_type": "markdown",
   "id": "8a76af52",
   "metadata": {},
   "source": [
    "#### 58. Subtract the mean of each row of a matrix (★★☆)"
   ]
  },
  {
   "cell_type": "code",
   "execution_count": 133,
   "id": "65cf18e9",
   "metadata": {},
   "outputs": [
    {
     "data": {
      "text/plain": "array([[-0.229178  ,  0.30996466, -0.14893129,  0.26617077, -0.19802613],\n       [ 0.07285521, -0.38965221,  0.28321149, -0.31089369,  0.3444792 ],\n       [ 0.42676988,  0.06133178, -0.07686303, -0.47700101,  0.06576239],\n       [-0.40278764,  0.31667662, -0.31838961,  0.27950292,  0.1249977 ]])"
     },
     "execution_count": 133,
     "metadata": {},
     "output_type": "execute_result"
    }
   ],
   "source": [
    "mat = np.random.random((4, 5))\n",
    "mat - mat.mean(1, keepdims=True)"
   ]
  },
  {
   "cell_type": "markdown",
   "id": "d2dc8b5f",
   "metadata": {},
   "source": [
    "#### 59. How to sort an array by the nth column? (★★☆)"
   ]
  },
  {
   "cell_type": "code",
   "execution_count": 133,
   "id": "83b5eafe",
   "metadata": {},
   "outputs": [],
   "source": []
  },
  {
   "cell_type": "markdown",
   "id": "4886f74e",
   "metadata": {},
   "source": [
    "#### 60. How to tell if a given 2D array has null columns? (★★☆)"
   ]
  },
  {
   "cell_type": "code",
   "execution_count": 134,
   "id": "7a066dd9",
   "metadata": {},
   "outputs": [
    {
     "data": {
      "text/plain": "True"
     },
     "execution_count": 134,
     "metadata": {},
     "output_type": "execute_result"
    }
   ],
   "source": [
    "x=np.array([\n",
    "    [0,1,np.nan],\n",
    "    [1,2,np.nan],\n",
    "    [4,5,np.nan]\n",
    "])\n",
    "np.isnan(x).all(0).any()"
   ]
  },
  {
   "cell_type": "markdown",
   "id": "1f5ad2a9",
   "metadata": {},
   "source": [
    "#### 61. Find the nearest value from a given value in an array (★★☆)"
   ]
  },
  {
   "cell_type": "code",
   "execution_count": 134,
   "id": "f53df167",
   "metadata": {},
   "outputs": [],
   "source": []
  },
  {
   "cell_type": "markdown",
   "id": "aa48f9b2",
   "metadata": {},
   "source": [
    "#### 62. Considering two arrays with shape (1,3) and (3,1), how to compute their sum using an iterator? (★★☆)"
   ]
  },
  {
   "cell_type": "code",
   "execution_count": 135,
   "id": "68987301",
   "metadata": {},
   "outputs": [
    {
     "name": "stdout",
     "output_type": "stream",
     "text": [
      "[[0.46728786 0.34559839 0.00659139]]\n",
      "[[0.16414475]\n",
      " [0.17916081]\n",
      " [0.63997906]]\n",
      "[[0.63143261 0.50974314 0.17073614]\n",
      " [0.64644867 0.5247592  0.1857522 ]\n",
      " [1.10726692 0.98557745 0.64657045]]\n"
     ]
    }
   ],
   "source": [
    "a = np.random.random((1, 3))\n",
    "b = np.random.random((3, 1))\n",
    "print(a)\n",
    "print(b)\n",
    "it = np.nditer([a, b, None])\n",
    "for (x, y, z) in it:\n",
    "    z[...] = x + y\n",
    "print(it.operands[2])"
   ]
  },
  {
   "cell_type": "markdown",
   "id": "0bed1516",
   "metadata": {},
   "source": [
    "#### 63. Create an array class that has a name attribute (★★☆)"
   ]
  },
  {
   "cell_type": "code",
   "execution_count": 135,
   "id": "fa1d52fc",
   "metadata": {},
   "outputs": [],
   "source": []
  },
  {
   "cell_type": "markdown",
   "id": "463a40bb",
   "metadata": {},
   "source": [
    "#### 64. Consider a given vector, how to add 1 to each element indexed by a second vector (be careful with repeated indices)? (★★★)"
   ]
  },
  {
   "cell_type": "code",
   "execution_count": 136,
   "id": "cdb2cad0",
   "metadata": {},
   "outputs": [
    {
     "name": "stdout",
     "output_type": "stream",
     "text": [
      "[1. 0. 2. 3. 0. 0. 0. 1. 2. 0. 0. 1. 0. 0. 0.]\n"
     ]
    }
   ],
   "source": [
    "v = np.zeros(15)\n",
    "i = np.random.randint(0, 14, 10)\n",
    "v += np.bincount(i, minlength=len(v))\n",
    "print(v)"
   ]
  },
  {
   "cell_type": "markdown",
   "id": "2a2f8219",
   "metadata": {},
   "source": [
    "#### 65. How to accumulate elements of a vector (X) to an array (F) based on an index list (I)? (★★★)"
   ]
  },
  {
   "cell_type": "code",
   "execution_count": 136,
   "id": "9cc34a77",
   "metadata": {},
   "outputs": [],
   "source": []
  },
  {
   "cell_type": "markdown",
   "id": "6a6a3c66",
   "metadata": {},
   "source": [
    "#### 66. Considering a (w,h,3) image of (dtype=ubyte), compute the number of unique colors (★★☆)"
   ]
  },
  {
   "cell_type": "code",
   "execution_count": 137,
   "id": "c88f5a5e",
   "metadata": {},
   "outputs": [
    {
     "name": "stdout",
     "output_type": "stream",
     "text": [
      "64\n"
     ]
    }
   ],
   "source": [
    "im = np.random.randint(0, 4, (16, 16, 3)).astype(np.ubyte)\n",
    "print(len(np.unique(im.reshape(-1, 3), axis=0)))"
   ]
  },
  {
   "cell_type": "markdown",
   "id": "4b030baa",
   "metadata": {},
   "source": [
    "#### 67. Considering a four dimensions array, how to get sum over the last two axis at once? (★★★)"
   ]
  },
  {
   "cell_type": "code",
   "execution_count": 137,
   "id": "cd2e7c9c",
   "metadata": {},
   "outputs": [],
   "source": []
  },
  {
   "cell_type": "markdown",
   "id": "1fa6053b",
   "metadata": {},
   "source": [
    "#### 68. Considering a one-dimensional vector D, how to compute means of subsets of D using a vector S of same size describing subset  indices? (★★★)"
   ]
  },
  {
   "cell_type": "code",
   "execution_count": 138,
   "outputs": [
    {
     "name": "stdout",
     "output_type": "stream",
     "text": [
      "[0.7937849  0.67520541 0.12894854 0.63588579 0.58681071 0.9891676\n",
      " 0.97379739 0.59301328 0.15054281 0.22043267]\n",
      "[2 1 0 0 0 1 0 2 2 1]\n",
      "[0.58136061 0.62826856 0.51244699]\n"
     ]
    }
   ],
   "source": [
    "n = 10\n",
    "D = np.random.random(n)\n",
    "S = np.random.randint(0, 3, n)\n",
    "subset_sums = np.bincount(S, D)\n",
    "subset_counts = np.bincount(S)\n",
    "subset_means = subset_sums / subset_counts\n",
    "print(D)\n",
    "print(S)\n",
    "print(subset_means)"
   ],
   "metadata": {
    "collapsed": false
   }
  },
  {
   "cell_type": "markdown",
   "source": [
    "🤷"
   ],
   "metadata": {
    "collapsed": false
   }
  },
  {
   "cell_type": "markdown",
   "id": "2e7b0395",
   "metadata": {},
   "source": [
    "#### 69. How to get the diagonal of a dot product? (★★★)"
   ]
  },
  {
   "cell_type": "code",
   "execution_count": 138,
   "id": "ae437196",
   "metadata": {},
   "outputs": [],
   "source": []
  },
  {
   "cell_type": "markdown",
   "id": "2bf2f8e4",
   "metadata": {},
   "source": [
    "#### 70. Consider the vector [1, 2, 3, 4, 5], how to build a new vector with 3 consecutive zeros interleaved between each value? (★★★)"
   ]
  },
  {
   "cell_type": "code",
   "execution_count": 139,
   "id": "8a427342",
   "metadata": {},
   "outputs": [
    {
     "name": "stdout",
     "output_type": "stream",
     "text": [
      "[1. 0. 0. 0. 2. 0. 0. 0. 3. 0. 0. 0. 4. 0. 0. 0. 5.]\n"
     ]
    }
   ],
   "source": [
    "x = np.arange(1, 6)\n",
    "y = np.zeros(5 + 3 * 4)\n",
    "y[::4] = x\n",
    "print(y)"
   ]
  },
  {
   "cell_type": "markdown",
   "id": "fff802ea",
   "metadata": {},
   "source": [
    "#### 71. Consider an array of dimension (5,5,3), how to mulitply it by an array with dimensions (5,5)? (★★★)"
   ]
  },
  {
   "cell_type": "code",
   "execution_count": 139,
   "id": "e83ab7b5",
   "metadata": {},
   "outputs": [],
   "source": []
  },
  {
   "cell_type": "markdown",
   "id": "a0865c04",
   "metadata": {},
   "source": [
    "#### 72. How to swap two rows of an array? (★★★)"
   ]
  },
  {
   "cell_type": "code",
   "execution_count": 140,
   "id": "bb510428",
   "metadata": {},
   "outputs": [
    {
     "name": "stdout",
     "output_type": "stream",
     "text": [
      "[[ 0  1  2  3  4]\n",
      " [ 5  6  7  8  9]\n",
      " [10 11 12 13 14]]\n",
      "[[ 0  1  2  3  4]\n",
      " [10 11 12 13 14]\n",
      " [ 5  6  7  8  9]]\n"
     ]
    }
   ],
   "source": [
    "x = np.arange(15).reshape(3, 5)\n",
    "print(x)\n",
    "x[[1, 2]] = x[[2, 1]]\n",
    "print(x)"
   ]
  },
  {
   "cell_type": "markdown",
   "id": "52beda8d",
   "metadata": {},
   "source": [
    "#### 73. Consider a set of 10 triplets describing 10 triangles (with shared vertices), find the set of unique line segments composing all the  triangles (★★★)"
   ]
  },
  {
   "cell_type": "code",
   "execution_count": 140,
   "id": "5b9895de",
   "metadata": {},
   "outputs": [],
   "source": []
  },
  {
   "cell_type": "markdown",
   "id": "b1f8e571",
   "metadata": {},
   "source": [
    "#### 74. Given a sorted array C that corresponds to a bincount, how to produce an array A such that np.bincount(A) == C? (★★★)"
   ]
  },
  {
   "cell_type": "code",
   "execution_count": 141,
   "id": "ea6d42e9",
   "metadata": {},
   "outputs": [
    {
     "name": "stdout",
     "output_type": "stream",
     "text": [
      "[0 2 2 2 0 2 2]\n",
      "[1 1 2 2 3 3 5 5 6 6]\n",
      "[1 1 2 2 3 3 5 5 6 6]\n"
     ]
    }
   ],
   "source": [
    "C = np.bincount([1,2,5,6,3,2,5,1, 6,3])\n",
    "print(C)\n",
    "a = []\n",
    "for i, v in enumerate(C):\n",
    "    a += [i] * v\n",
    "\n",
    "A =np.array(a)\n",
    "print(A)\n",
    "print(np.repeat(np.arange(len(C)), C))"
   ]
  },
  {
   "cell_type": "markdown",
   "id": "db1ed658",
   "metadata": {},
   "source": [
    "#### 75. How to compute averages using a sliding window over an array? (★★★)"
   ]
  },
  {
   "cell_type": "code",
   "execution_count": 141,
   "id": "9dc6a98a",
   "metadata": {},
   "outputs": [],
   "source": []
  },
  {
   "cell_type": "markdown",
   "id": "1ca35bda",
   "metadata": {},
   "source": [
    "#### 76. Consider a one-dimensional array Z, build a two-dimensional array whose first row is (Z[0],Z[1],Z[2]) and each subsequent row is  shifted by 1 (last row should be (Z[-3],Z[-2],Z[-1]) (★★★)"
   ]
  },
  {
   "cell_type": "code",
   "execution_count": 142,
   "id": "900e8b0a",
   "metadata": {},
   "outputs": [
    {
     "name": "stdout",
     "output_type": "stream",
     "text": [
      "[0 1 2 3 4 5 6]\n",
      "[[0 1 2]\n",
      " [1 2 3]\n",
      " [2 3 4]\n",
      " [3 4 5]\n",
      " [4 5 6]]\n"
     ]
    }
   ],
   "source": [
    "from numpy.lib.stride_tricks import sliding_window_view\n",
    "x = np.arange(7)\n",
    "print(x)\n",
    "print(sliding_window_view(x, 3))"
   ]
  },
  {
   "cell_type": "markdown",
   "id": "18bd6fab",
   "metadata": {},
   "source": [
    "#### 77. How to negate a boolean, or to change the sign of a float inplace? (★★★)"
   ]
  },
  {
   "cell_type": "code",
   "execution_count": 142,
   "id": "554c5103",
   "metadata": {},
   "outputs": [],
   "source": []
  },
  {
   "cell_type": "markdown",
   "id": "79a5b412",
   "metadata": {},
   "source": [
    "#### 78. Consider 2 sets of points P0,P1 describing lines (2d) and a point p, how to compute distance from p to each line i (P0[i],P1[i])? (★★★)"
   ]
  },
  {
   "cell_type": "code",
   "execution_count": 142,
   "outputs": [],
   "source": [],
   "metadata": {
    "collapsed": false
   }
  },
  {
   "cell_type": "markdown",
   "id": "33ffa66d",
   "metadata": {},
   "source": [
    "#### 79. Consider 2 sets of points P0,P1 describing lines (2d) and a set of points P, how to compute distance from each point j (P[j]) to each line i (P0[i],P1[i])? (★★★)"
   ]
  },
  {
   "cell_type": "code",
   "execution_count": 142,
   "id": "b56c2510",
   "metadata": {},
   "outputs": [],
   "source": []
  },
  {
   "cell_type": "markdown",
   "id": "a0f23dfa",
   "metadata": {},
   "source": [
    "#### 80. Consider an arbitrary array, write a function that extract a subpart with a fixed shape and centered on a given element (pad with a `fill` value when necessary) (★★★)"
   ]
  },
  {
   "cell_type": "code",
   "execution_count": 143,
   "id": "4b7b96fc",
   "metadata": {},
   "outputs": [
    {
     "name": "stdout",
     "output_type": "stream",
     "text": [
      "[[ 1  2  3  4  5]\n",
      " [ 6  7  8  9 10]\n",
      " [11 12 13 14 15]\n",
      " [16 17 18 19 20]\n",
      " [21 22 23 24 25]]\n",
      "[[ 0  0  0  0  0  0  0]\n",
      " [ 0  1  2  3  4  5  0]\n",
      " [ 0  6  7  8  9 10  0]\n",
      " [ 0 11 12 13 14 15  0]\n",
      " [ 0 16 17 18 19 20  0]\n",
      " [ 0 21 22 23 24 25  0]\n",
      " [ 0  0  0  0  0  0  0]]\n"
     ]
    }
   ],
   "source": [
    "def extract_subpart(m, shape, position, value=0):\n",
    "    d = ((np.array(shape) - 1) / 2).astype(int)\n",
    "    position = np.array(position)\n",
    "    x1 = np.maximum(d - position, 0)\n",
    "    x2 = np.maximum((position + d + 1 - m.shape), 0)\n",
    "    position += x1\n",
    "\n",
    "    m = np.pad(m, np.stack([x1, x2], 1), constant_values=value)\n",
    "    slicer = tuple(slice(position[i] - d[i], position[i] + d[i] + 1) for i in range(len(shape)))\n",
    "    return m[slicer]\n",
    "\n",
    "Z = np.arange(1, 26).reshape((5,5))\n",
    "shape = (7,7)\n",
    "fill  = 0\n",
    "position = (2, 2)\n",
    "print(Z)\n",
    "extract = extract_subpart(Z, shape, position, fill)\n",
    "print(extract)"
   ]
  },
  {
   "cell_type": "markdown",
   "id": "cc27e944",
   "metadata": {},
   "source": [
    "#### 81. Consider an array Z = [1,2,3,4,5,6,7,8,9,10,11,12,13,14], how to generate an array R = [[1,2,3,4], [2,3,4,5], [3,4,5,6], ..., [11,12,13,14]]? (★★★)"
   ]
  },
  {
   "cell_type": "code",
   "execution_count": 144,
   "id": "2fdaa26c",
   "metadata": {},
   "outputs": [
    {
     "data": {
      "text/plain": "array([[ 1,  2,  3,  4],\n       [ 2,  3,  4,  5],\n       [ 3,  4,  5,  6],\n       [ 4,  5,  6,  7],\n       [ 5,  6,  7,  8],\n       [ 6,  7,  8,  9],\n       [ 7,  8,  9, 10],\n       [ 8,  9, 10, 11],\n       [ 9, 10, 11, 12],\n       [10, 11, 12, 13],\n       [11, 12, 13, 14]])"
     },
     "execution_count": 144,
     "metadata": {},
     "output_type": "execute_result"
    }
   ],
   "source": [
    "Z = list(range(1, 15))\n",
    "R = sliding_window_view(Z, 4)\n",
    "R"
   ]
  },
  {
   "cell_type": "markdown",
   "id": "9bc44d6e",
   "metadata": {},
   "source": [
    "#### 82. Compute a matrix rank (★★★)"
   ]
  },
  {
   "cell_type": "code",
   "execution_count": 145,
   "id": "3a4c7564",
   "metadata": {},
   "outputs": [
    {
     "data": {
      "text/plain": "10"
     },
     "execution_count": 145,
     "metadata": {},
     "output_type": "execute_result"
    }
   ],
   "source": [
    "Z = np.random.randint(0,2,(10,10))\n",
    "np.linalg.matrix_rank(Z)"
   ]
  },
  {
   "cell_type": "markdown",
   "id": "718a82dd",
   "metadata": {},
   "source": [
    "#### 83. How to find the most frequent value in an array?"
   ]
  },
  {
   "cell_type": "code",
   "execution_count": 145,
   "id": "8ffc513c",
   "metadata": {},
   "outputs": [],
   "source": []
  },
  {
   "cell_type": "markdown",
   "id": "754ceeba",
   "metadata": {},
   "source": [
    "#### 84. Extract all the contiguous 3x3 blocks from a random 10x10 matrix (★★★)"
   ]
  },
  {
   "cell_type": "code",
   "execution_count": 146,
   "id": "c32bb120",
   "metadata": {},
   "outputs": [
    {
     "name": "stdout",
     "output_type": "stream",
     "text": [
      "[[0.88033857 0.46437692 0.906639   0.13029767 0.25174245 0.28962557\n",
      "  0.78961838 0.20242579 0.04411872 0.22512889]\n",
      " [0.49672041 0.63982774 0.82444285 0.60312527 0.07407076 0.94627722\n",
      "  0.3475222  0.08877318 0.7381017  0.85332942]\n",
      " [0.3921859  0.73918536 0.38635661 0.03145332 0.73080439 0.02251946\n",
      "  0.9918252  0.05543588 0.8883189  0.03110711]\n",
      " [0.67031825 0.46477598 0.25317535 0.26440904 0.85424238 0.19903416\n",
      "  0.92422917 0.97977443 0.07383306 0.36388098]\n",
      " [0.60376328 0.65358492 0.5017738  0.90518495 0.92950581 0.02476395\n",
      "  0.41121103 0.30414185 0.94824107 0.44441205]\n",
      " [0.08956227 0.65592561 0.65540673 0.08838567 0.65471636 0.02357182\n",
      "  0.02961634 0.39985616 0.02028186 0.58432962]\n",
      " [0.35563894 0.7322257  0.15753705 0.51571221 0.21403275 0.76603653\n",
      "  0.3532831  0.30232357 0.38427022 0.50329149]\n",
      " [0.54180997 0.02335494 0.32632307 0.24627321 0.19672449 0.99175427\n",
      "  0.02621349 0.33903287 0.44868462 0.52444564]\n",
      " [0.40210546 0.14784576 0.98023259 0.68948846 0.02240507 0.54490887\n",
      "  0.41009189 0.65959776 0.14384788 0.26723504]\n",
      " [0.72669388 0.1032738  0.47517749 0.73608165 0.47313321 0.66483183\n",
      "  0.48126682 0.39925807 0.58294117 0.70145581]]\n",
      "[[[[0.88033857 0.46437692 0.906639  ]\n",
      "   [0.49672041 0.63982774 0.82444285]\n",
      "   [0.3921859  0.73918536 0.38635661]]\n",
      "\n",
      "  [[0.46437692 0.906639   0.13029767]\n",
      "   [0.63982774 0.82444285 0.60312527]\n",
      "   [0.73918536 0.38635661 0.03145332]]\n",
      "\n",
      "  [[0.906639   0.13029767 0.25174245]\n",
      "   [0.82444285 0.60312527 0.07407076]\n",
      "   [0.38635661 0.03145332 0.73080439]]\n",
      "\n",
      "  [[0.13029767 0.25174245 0.28962557]\n",
      "   [0.60312527 0.07407076 0.94627722]\n",
      "   [0.03145332 0.73080439 0.02251946]]\n",
      "\n",
      "  [[0.25174245 0.28962557 0.78961838]\n",
      "   [0.07407076 0.94627722 0.3475222 ]\n",
      "   [0.73080439 0.02251946 0.9918252 ]]\n",
      "\n",
      "  [[0.28962557 0.78961838 0.20242579]\n",
      "   [0.94627722 0.3475222  0.08877318]\n",
      "   [0.02251946 0.9918252  0.05543588]]\n",
      "\n",
      "  [[0.78961838 0.20242579 0.04411872]\n",
      "   [0.3475222  0.08877318 0.7381017 ]\n",
      "   [0.9918252  0.05543588 0.8883189 ]]\n",
      "\n",
      "  [[0.20242579 0.04411872 0.22512889]\n",
      "   [0.08877318 0.7381017  0.85332942]\n",
      "   [0.05543588 0.8883189  0.03110711]]]\n",
      "\n",
      "\n",
      " [[[0.49672041 0.63982774 0.82444285]\n",
      "   [0.3921859  0.73918536 0.38635661]\n",
      "   [0.67031825 0.46477598 0.25317535]]\n",
      "\n",
      "  [[0.63982774 0.82444285 0.60312527]\n",
      "   [0.73918536 0.38635661 0.03145332]\n",
      "   [0.46477598 0.25317535 0.26440904]]\n",
      "\n",
      "  [[0.82444285 0.60312527 0.07407076]\n",
      "   [0.38635661 0.03145332 0.73080439]\n",
      "   [0.25317535 0.26440904 0.85424238]]\n",
      "\n",
      "  [[0.60312527 0.07407076 0.94627722]\n",
      "   [0.03145332 0.73080439 0.02251946]\n",
      "   [0.26440904 0.85424238 0.19903416]]\n",
      "\n",
      "  [[0.07407076 0.94627722 0.3475222 ]\n",
      "   [0.73080439 0.02251946 0.9918252 ]\n",
      "   [0.85424238 0.19903416 0.92422917]]\n",
      "\n",
      "  [[0.94627722 0.3475222  0.08877318]\n",
      "   [0.02251946 0.9918252  0.05543588]\n",
      "   [0.19903416 0.92422917 0.97977443]]\n",
      "\n",
      "  [[0.3475222  0.08877318 0.7381017 ]\n",
      "   [0.9918252  0.05543588 0.8883189 ]\n",
      "   [0.92422917 0.97977443 0.07383306]]\n",
      "\n",
      "  [[0.08877318 0.7381017  0.85332942]\n",
      "   [0.05543588 0.8883189  0.03110711]\n",
      "   [0.97977443 0.07383306 0.36388098]]]\n",
      "\n",
      "\n",
      " [[[0.3921859  0.73918536 0.38635661]\n",
      "   [0.67031825 0.46477598 0.25317535]\n",
      "   [0.60376328 0.65358492 0.5017738 ]]\n",
      "\n",
      "  [[0.73918536 0.38635661 0.03145332]\n",
      "   [0.46477598 0.25317535 0.26440904]\n",
      "   [0.65358492 0.5017738  0.90518495]]\n",
      "\n",
      "  [[0.38635661 0.03145332 0.73080439]\n",
      "   [0.25317535 0.26440904 0.85424238]\n",
      "   [0.5017738  0.90518495 0.92950581]]\n",
      "\n",
      "  [[0.03145332 0.73080439 0.02251946]\n",
      "   [0.26440904 0.85424238 0.19903416]\n",
      "   [0.90518495 0.92950581 0.02476395]]\n",
      "\n",
      "  [[0.73080439 0.02251946 0.9918252 ]\n",
      "   [0.85424238 0.19903416 0.92422917]\n",
      "   [0.92950581 0.02476395 0.41121103]]\n",
      "\n",
      "  [[0.02251946 0.9918252  0.05543588]\n",
      "   [0.19903416 0.92422917 0.97977443]\n",
      "   [0.02476395 0.41121103 0.30414185]]\n",
      "\n",
      "  [[0.9918252  0.05543588 0.8883189 ]\n",
      "   [0.92422917 0.97977443 0.07383306]\n",
      "   [0.41121103 0.30414185 0.94824107]]\n",
      "\n",
      "  [[0.05543588 0.8883189  0.03110711]\n",
      "   [0.97977443 0.07383306 0.36388098]\n",
      "   [0.30414185 0.94824107 0.44441205]]]\n",
      "\n",
      "\n",
      " [[[0.67031825 0.46477598 0.25317535]\n",
      "   [0.60376328 0.65358492 0.5017738 ]\n",
      "   [0.08956227 0.65592561 0.65540673]]\n",
      "\n",
      "  [[0.46477598 0.25317535 0.26440904]\n",
      "   [0.65358492 0.5017738  0.90518495]\n",
      "   [0.65592561 0.65540673 0.08838567]]\n",
      "\n",
      "  [[0.25317535 0.26440904 0.85424238]\n",
      "   [0.5017738  0.90518495 0.92950581]\n",
      "   [0.65540673 0.08838567 0.65471636]]\n",
      "\n",
      "  [[0.26440904 0.85424238 0.19903416]\n",
      "   [0.90518495 0.92950581 0.02476395]\n",
      "   [0.08838567 0.65471636 0.02357182]]\n",
      "\n",
      "  [[0.85424238 0.19903416 0.92422917]\n",
      "   [0.92950581 0.02476395 0.41121103]\n",
      "   [0.65471636 0.02357182 0.02961634]]\n",
      "\n",
      "  [[0.19903416 0.92422917 0.97977443]\n",
      "   [0.02476395 0.41121103 0.30414185]\n",
      "   [0.02357182 0.02961634 0.39985616]]\n",
      "\n",
      "  [[0.92422917 0.97977443 0.07383306]\n",
      "   [0.41121103 0.30414185 0.94824107]\n",
      "   [0.02961634 0.39985616 0.02028186]]\n",
      "\n",
      "  [[0.97977443 0.07383306 0.36388098]\n",
      "   [0.30414185 0.94824107 0.44441205]\n",
      "   [0.39985616 0.02028186 0.58432962]]]\n",
      "\n",
      "\n",
      " [[[0.60376328 0.65358492 0.5017738 ]\n",
      "   [0.08956227 0.65592561 0.65540673]\n",
      "   [0.35563894 0.7322257  0.15753705]]\n",
      "\n",
      "  [[0.65358492 0.5017738  0.90518495]\n",
      "   [0.65592561 0.65540673 0.08838567]\n",
      "   [0.7322257  0.15753705 0.51571221]]\n",
      "\n",
      "  [[0.5017738  0.90518495 0.92950581]\n",
      "   [0.65540673 0.08838567 0.65471636]\n",
      "   [0.15753705 0.51571221 0.21403275]]\n",
      "\n",
      "  [[0.90518495 0.92950581 0.02476395]\n",
      "   [0.08838567 0.65471636 0.02357182]\n",
      "   [0.51571221 0.21403275 0.76603653]]\n",
      "\n",
      "  [[0.92950581 0.02476395 0.41121103]\n",
      "   [0.65471636 0.02357182 0.02961634]\n",
      "   [0.21403275 0.76603653 0.3532831 ]]\n",
      "\n",
      "  [[0.02476395 0.41121103 0.30414185]\n",
      "   [0.02357182 0.02961634 0.39985616]\n",
      "   [0.76603653 0.3532831  0.30232357]]\n",
      "\n",
      "  [[0.41121103 0.30414185 0.94824107]\n",
      "   [0.02961634 0.39985616 0.02028186]\n",
      "   [0.3532831  0.30232357 0.38427022]]\n",
      "\n",
      "  [[0.30414185 0.94824107 0.44441205]\n",
      "   [0.39985616 0.02028186 0.58432962]\n",
      "   [0.30232357 0.38427022 0.50329149]]]\n",
      "\n",
      "\n",
      " [[[0.08956227 0.65592561 0.65540673]\n",
      "   [0.35563894 0.7322257  0.15753705]\n",
      "   [0.54180997 0.02335494 0.32632307]]\n",
      "\n",
      "  [[0.65592561 0.65540673 0.08838567]\n",
      "   [0.7322257  0.15753705 0.51571221]\n",
      "   [0.02335494 0.32632307 0.24627321]]\n",
      "\n",
      "  [[0.65540673 0.08838567 0.65471636]\n",
      "   [0.15753705 0.51571221 0.21403275]\n",
      "   [0.32632307 0.24627321 0.19672449]]\n",
      "\n",
      "  [[0.08838567 0.65471636 0.02357182]\n",
      "   [0.51571221 0.21403275 0.76603653]\n",
      "   [0.24627321 0.19672449 0.99175427]]\n",
      "\n",
      "  [[0.65471636 0.02357182 0.02961634]\n",
      "   [0.21403275 0.76603653 0.3532831 ]\n",
      "   [0.19672449 0.99175427 0.02621349]]\n",
      "\n",
      "  [[0.02357182 0.02961634 0.39985616]\n",
      "   [0.76603653 0.3532831  0.30232357]\n",
      "   [0.99175427 0.02621349 0.33903287]]\n",
      "\n",
      "  [[0.02961634 0.39985616 0.02028186]\n",
      "   [0.3532831  0.30232357 0.38427022]\n",
      "   [0.02621349 0.33903287 0.44868462]]\n",
      "\n",
      "  [[0.39985616 0.02028186 0.58432962]\n",
      "   [0.30232357 0.38427022 0.50329149]\n",
      "   [0.33903287 0.44868462 0.52444564]]]\n",
      "\n",
      "\n",
      " [[[0.35563894 0.7322257  0.15753705]\n",
      "   [0.54180997 0.02335494 0.32632307]\n",
      "   [0.40210546 0.14784576 0.98023259]]\n",
      "\n",
      "  [[0.7322257  0.15753705 0.51571221]\n",
      "   [0.02335494 0.32632307 0.24627321]\n",
      "   [0.14784576 0.98023259 0.68948846]]\n",
      "\n",
      "  [[0.15753705 0.51571221 0.21403275]\n",
      "   [0.32632307 0.24627321 0.19672449]\n",
      "   [0.98023259 0.68948846 0.02240507]]\n",
      "\n",
      "  [[0.51571221 0.21403275 0.76603653]\n",
      "   [0.24627321 0.19672449 0.99175427]\n",
      "   [0.68948846 0.02240507 0.54490887]]\n",
      "\n",
      "  [[0.21403275 0.76603653 0.3532831 ]\n",
      "   [0.19672449 0.99175427 0.02621349]\n",
      "   [0.02240507 0.54490887 0.41009189]]\n",
      "\n",
      "  [[0.76603653 0.3532831  0.30232357]\n",
      "   [0.99175427 0.02621349 0.33903287]\n",
      "   [0.54490887 0.41009189 0.65959776]]\n",
      "\n",
      "  [[0.3532831  0.30232357 0.38427022]\n",
      "   [0.02621349 0.33903287 0.44868462]\n",
      "   [0.41009189 0.65959776 0.14384788]]\n",
      "\n",
      "  [[0.30232357 0.38427022 0.50329149]\n",
      "   [0.33903287 0.44868462 0.52444564]\n",
      "   [0.65959776 0.14384788 0.26723504]]]\n",
      "\n",
      "\n",
      " [[[0.54180997 0.02335494 0.32632307]\n",
      "   [0.40210546 0.14784576 0.98023259]\n",
      "   [0.72669388 0.1032738  0.47517749]]\n",
      "\n",
      "  [[0.02335494 0.32632307 0.24627321]\n",
      "   [0.14784576 0.98023259 0.68948846]\n",
      "   [0.1032738  0.47517749 0.73608165]]\n",
      "\n",
      "  [[0.32632307 0.24627321 0.19672449]\n",
      "   [0.98023259 0.68948846 0.02240507]\n",
      "   [0.47517749 0.73608165 0.47313321]]\n",
      "\n",
      "  [[0.24627321 0.19672449 0.99175427]\n",
      "   [0.68948846 0.02240507 0.54490887]\n",
      "   [0.73608165 0.47313321 0.66483183]]\n",
      "\n",
      "  [[0.19672449 0.99175427 0.02621349]\n",
      "   [0.02240507 0.54490887 0.41009189]\n",
      "   [0.47313321 0.66483183 0.48126682]]\n",
      "\n",
      "  [[0.99175427 0.02621349 0.33903287]\n",
      "   [0.54490887 0.41009189 0.65959776]\n",
      "   [0.66483183 0.48126682 0.39925807]]\n",
      "\n",
      "  [[0.02621349 0.33903287 0.44868462]\n",
      "   [0.41009189 0.65959776 0.14384788]\n",
      "   [0.48126682 0.39925807 0.58294117]]\n",
      "\n",
      "  [[0.33903287 0.44868462 0.52444564]\n",
      "   [0.65959776 0.14384788 0.26723504]\n",
      "   [0.39925807 0.58294117 0.70145581]]]]\n"
     ]
    }
   ],
   "source": [
    "m = np.random.random((10, 10))\n",
    "print(m)\n",
    "print(sliding_window_view(m, (3,3)))"
   ]
  },
  {
   "cell_type": "markdown",
   "id": "9fc0b63a",
   "metadata": {},
   "source": [
    "#### 85. Create a 2D array subclass such that Z[i,j] == Z[j,i] (★★★)"
   ]
  },
  {
   "cell_type": "code",
   "execution_count": 146,
   "id": "c41d0f9b",
   "metadata": {},
   "outputs": [],
   "source": []
  },
  {
   "cell_type": "markdown",
   "id": "ae909782",
   "metadata": {},
   "source": [
    "#### 86. Consider a set of p matrices wich shape (n,n) and a set of p vectors with shape (n,1). How to compute the sum of of the p matrix products at once? (result has shape (n,1)) (★★★)"
   ]
  },
  {
   "cell_type": "code",
   "execution_count": 147,
   "id": "013944b1",
   "metadata": {},
   "outputs": [
    {
     "name": "stdout",
     "output_type": "stream",
     "text": [
      "[4.30934758 4.6422222  3.56634167]\n"
     ]
    }
   ],
   "source": [
    "n = 3\n",
    "p = 5\n",
    "mats = [np.random.random((n, n)) for _ in range(p)]\n",
    "vecs = [np.random.random(n) for _ in range(p)]\n",
    "res = np.concatenate(mats, 1) @ np.concatenate(vecs)\n",
    "print(res)"
   ]
  },
  {
   "cell_type": "markdown",
   "source": [
    "The solution uses tensor product, but this is simpler and I'm pretty it works just as well"
   ],
   "metadata": {
    "collapsed": false
   }
  },
  {
   "cell_type": "markdown",
   "id": "5f134bf4",
   "metadata": {},
   "source": [
    "#### 87. Consider a 16x16 array, how to get the block-sum (block size is 4x4)? (★★★)"
   ]
  },
  {
   "cell_type": "code",
   "execution_count": 147,
   "id": "bf480005",
   "metadata": {},
   "outputs": [],
   "source": []
  },
  {
   "cell_type": "markdown",
   "id": "aa91a3be",
   "metadata": {},
   "source": [
    "#### 88. How to implement the Game of Life using numpy arrays? (★★★)"
   ]
  },
  {
   "cell_type": "code",
   "execution_count": null,
   "id": "a20f0e2b",
   "metadata": {
    "pycharm": {
     "is_executing": true
    }
   },
   "outputs": [
    {
     "data": {
      "text/plain": "<Figure size 432x288 with 1 Axes>",
      "image/png": "[encoded data removed]"
     },
     "metadata": {
      "needs_background": "light"
     },
     "output_type": "display_data"
    }
   ],
   "source": [
    "from numpy.lib.stride_tricks import sliding_window_view\n",
    "import matplotlib.pyplot as plt\n",
    "from time import sleep\n",
    "from IPython.display import clear_output\n",
    "\n",
    "np.random.seed(1)\n",
    "N = 40\n",
    "board = np.random.randint(0, 2, (N,N))\n",
    "plt.imshow(board, cmap='Greys')\n",
    "plt.show()\n",
    "sleep(1)\n",
    "for t in range(10000):\n",
    "    windows = sliding_window_view(np.pad(board, 1), (3, 3))\n",
    "    num_neighbors = windows.sum(-1).sum(-1)\n",
    "    surviving = (num_neighbors >= 3) * (num_neighbors <= 4)\n",
    "    # num neighbor doesn't account for the cell itself also existing\n",
    "    reproduced = (board == 0) & (num_neighbors == 3)\n",
    "    board *= surviving\n",
    "    board.reshape(-1)[reproduced.reshape(-1)] = 1\n",
    "\n",
    "    clear_output()\n",
    "    plt.imshow(board, cmap='Greys')\n",
    "    plt.text(0, -1, str(t + 1), color='red')\n",
    "    plt.show()\n",
    "    sleep(.5)"
   ]
  },
  {
   "cell_type": "markdown",
   "id": "885023d9",
   "metadata": {},
   "source": [
    "#### 89. How to get the n largest values of an array (★★★)"
   ]
  },
  {
   "cell_type": "code",
   "execution_count": null,
   "id": "996ab585",
   "metadata": {},
   "outputs": [],
   "source": []
  },
  {
   "cell_type": "markdown",
   "id": "d0518aeb",
   "metadata": {},
   "source": [
    "#### 90. Given an arbitrary number of vectors, build the cartesian product (every combinations of every item) (★★★)"
   ]
  },
  {
   "cell_type": "markdown",
   "source": [
    "I created the actual vector cartesian product instead of set product :S"
   ],
   "metadata": {
    "collapsed": false
   }
  },
  {
   "cell_type": "code",
   "execution_count": null,
   "outputs": [],
   "source": [
    "def cartesian(vectors):\n",
    "    res = vectors[0]\n",
    "    for vector in vectors[1:]:\n",
    "        res = res.reshape([*res.shape, 1]) @ np.atleast_2d(vector)\n",
    "    return res"
   ],
   "metadata": {
    "collapsed": false
   }
  },
  {
   "cell_type": "code",
   "execution_count": null,
   "outputs": [],
   "source": [
    "vectors = [\n",
    "    np.arange(1, 5),\n",
    "    np.arange(1, 3),\n",
    "    np.arange(1, 3),\n",
    "    ]\n",
    "print(cartesian(vectors))"
   ],
   "metadata": {
    "collapsed": false
   }
  },
  {
   "cell_type": "markdown",
   "id": "20cc5dc6",
   "metadata": {},
   "source": [
    "#### 91. How to create a record array from a regular array? (★★★)"
   ]
  },
  {
   "cell_type": "code",
   "execution_count": null,
   "id": "a7d05a34",
   "metadata": {},
   "outputs": [],
   "source": []
  },
  {
   "cell_type": "markdown",
   "id": "e59a2c44",
   "metadata": {},
   "source": [
    "#### 92. Consider a large vector Z, compute Z to the power of 3 using 3 different methods (★★★)"
   ]
  },
  {
   "cell_type": "code",
   "execution_count": null,
   "id": "916168ea",
   "metadata": {},
   "outputs": [],
   "source": [
    "Z = np.random.random(1000)\n",
    "%timeit np.power(x,3)\n",
    "%timeit x*x*x\n",
    "%timeit np.einsum('i,i,i->i',x,x,x)"
   ]
  },
  {
   "cell_type": "markdown",
   "id": "f1fc4b70",
   "metadata": {},
   "source": [
    "#### 93. Consider two arrays A and B of shape (8,3) and (2,2). How to find rows of A that contain elements of each row of B regardless of the order of the elements in B? (★★★)"
   ]
  },
  {
   "cell_type": "code",
   "execution_count": null,
   "id": "d35b4705",
   "metadata": {},
   "outputs": [],
   "source": []
  },
  {
   "cell_type": "markdown",
   "id": "821a6ce8",
   "metadata": {},
   "source": [
    "#### 94. Considering a 10x3 matrix, extract rows with unequal values (e.g. [2,2,3]) (★★★)"
   ]
  },
  {
   "cell_type": "code",
   "execution_count": null,
   "id": "5690c131",
   "metadata": {},
   "outputs": [],
   "source": [
    "m = np.random.randint(1, 3, 30).reshape(10, 3)\n",
    "ii = (m != m[:, [0]]).any(1)\n",
    "print(m[i])\n",
    "print(len(m[ii]))"
   ]
  },
  {
   "cell_type": "markdown",
   "id": "9dc9a61c",
   "metadata": {},
   "source": [
    "#### 95. Convert a vector of ints into a matrix binary representation (★★★)"
   ]
  },
  {
   "cell_type": "code",
   "execution_count": null,
   "id": "c728306f",
   "metadata": {},
   "outputs": [],
   "source": []
  },
  {
   "cell_type": "markdown",
   "id": "cca48e6e",
   "metadata": {},
   "source": [
    "#### 96. Given a two dimensional array, how to extract unique rows? (★★★)"
   ]
  },
  {
   "cell_type": "code",
   "execution_count": null,
   "id": "ae2e6484",
   "metadata": {},
   "outputs": [],
   "source": [
    "m = np.random.randint(0, 3, (10, 2))\n",
    "print(np.unique(m, axis=0))"
   ]
  },
  {
   "cell_type": "markdown",
   "id": "3621d474",
   "metadata": {},
   "source": [
    "#### 97. Considering 2 vectors A & B, write the einsum equivalent of inner, outer, sum, and mul function (★★★)"
   ]
  },
  {
   "cell_type": "code",
   "execution_count": null,
   "id": "09238dfb",
   "metadata": {},
   "outputs": [],
   "source": []
  },
  {
   "cell_type": "markdown",
   "id": "26162fae",
   "metadata": {},
   "source": [
    "#### 98. Considering a path described by two vectors (X,Y), how to sample it using equidistant samples (★★★)?"
   ]
  },
  {
   "cell_type": "markdown",
   "source": [
    "In 2d"
   ],
   "metadata": {
    "collapsed": false
   }
  },
  {
   "cell_type": "code",
   "execution_count": null,
   "id": "283c279f",
   "metadata": {},
   "outputs": [],
   "source": [
    "import matplotlib.pyplot as plt\n",
    "\n",
    "n = 100\n",
    "X = np.sort(np.random.random(2))\n",
    "Y = np.random.random(2)\n",
    "\n",
    "x_samples = np.linspace(min(X), max(X), n)\n",
    "y_samples = np.interp(x=x_samples, xp=X, fp=Y)\n",
    "\n",
    "plt.scatter(x_samples, y_samples)\n",
    "plt.scatter(X, Y)\n",
    "plt.show()"
   ]
  },
  {
   "cell_type": "markdown",
   "source": [
    "In nd"
   ],
   "metadata": {
    "collapsed": false
   }
  },
  {
   "cell_type": "code",
   "execution_count": null,
   "outputs": [],
   "source": [
    "d = 2\n",
    "n = 5\n",
    "A = np.random.random(d)\n",
    "B = np.random.random(d)\n",
    "path = np.linspace(A, B, n)\n",
    "\n",
    "plt.scatter(path[:, 0], path[:, 1])\n",
    "plt.scatter(A[0], A[1])\n",
    "plt.scatter(B[0], B[1])\n",
    "plt.show()"
   ],
   "metadata": {
    "collapsed": false
   }
  },
  {
   "cell_type": "markdown",
   "id": "44b20c57",
   "metadata": {},
   "source": [
    "#### 99. Given an integer n and a 2D array X, select from X the rows which can be interpreted as draws from a multinomial distribution with n degrees, i.e., the rows which only contain integers and which sum to n. (★★★)"
   ]
  },
  {
   "cell_type": "code",
   "execution_count": null,
   "id": "389b7190",
   "metadata": {},
   "outputs": [],
   "source": []
  },
  {
   "cell_type": "markdown",
   "id": "6fa5ed76",
   "metadata": {},
   "source": [
    "#### 100. Compute bootstrapped 95% confidence intervals for the mean of a 1D array X (i.e., resample the elements of an array with replacement N times, compute the mean of each sample, and then compute percentiles over the means). (★★★)"
   ]
  },
  {
   "cell_type": "code",
   "execution_count": null,
   "id": "4db4cc57",
   "metadata": {},
   "outputs": [],
   "source": [
    "M = 10000\n",
    "N = 1000\n",
    "X = np.random.random(M)\n",
    "X_sample = np.random.choice(X, (N, M))\n",
    "X_means = X_sample.mean(axis=1)\n",
    "conf_int = np.quantile(X_means, [0.025, 0.975])\n",
    "print(conf_int)\n",
    "print(X.mean())"
   ]
  }
 ],
 "metadata": {},
 "nbformat": 4,
 "nbformat_minor": 5
}
