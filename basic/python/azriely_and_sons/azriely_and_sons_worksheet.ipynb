{
 "cells": [
  {
   "cell_type": "code",
   "execution_count": 1,
   "id": "10979627",
   "metadata": {},
   "outputs": [],
   "source": [
    "import pandas as pd \n",
    "import numpy as np\n",
    "import matplotlib.pyplot as plt\n",
    "from pathlib import Path\n",
    "from calendar import month_name\n",
    "import re\n",
    "from tqdm import tqdm, trange\n",
    "\n",
    "tqdm.pandas()\n",
    "def delta0():\n",
    "    return pd.Timedelta(0)"
   ]
  },
  {
   "cell_type": "markdown",
   "id": "88993b01",
   "metadata": {},
   "source": [
    "# Data Loading and Processing"
   ]
  },
  {
   "cell_type": "markdown",
   "id": "bf326e94",
   "metadata": {},
   "source": [
    "## Taarif"
   ]
  },
  {
   "cell_type": "code",
   "execution_count": 2,
   "id": "e36731eb",
   "metadata": {},
   "outputs": [
    {
     "data": {
      "text/html": [
       "<div>\n",
       "<style scoped>\n",
       "    .dataframe tbody tr th:only-of-type {\n",
       "        vertical-align: middle;\n",
       "    }\n",
       "\n",
       "    .dataframe tbody tr th {\n",
       "        vertical-align: top;\n",
       "    }\n",
       "\n",
       "    .dataframe thead th {\n",
       "        text-align: right;\n",
       "    }\n",
       "</style>\n",
       "<table border=\"1\" class=\"dataframe\">\n",
       "  <thead>\n",
       "    <tr style=\"text-align: right;\">\n",
       "      <th></th>\n",
       "      <th>basic_taarif</th>\n",
       "      <th>extra_milage</th>\n",
       "      <th>night_bonus</th>\n",
       "      <th>weekend_bonus</th>\n",
       "    </tr>\n",
       "    <tr>\n",
       "      <th>customer</th>\n",
       "      <th></th>\n",
       "      <th></th>\n",
       "      <th></th>\n",
       "      <th></th>\n",
       "    </tr>\n",
       "  </thead>\n",
       "  <tbody>\n",
       "    <tr>\n",
       "      <th>jerusalem_muni</th>\n",
       "      <td>8.0</td>\n",
       "      <td>4.0</td>\n",
       "      <td>0.5</td>\n",
       "      <td>0.30</td>\n",
       "    </tr>\n",
       "    <tr>\n",
       "      <th>intel</th>\n",
       "      <td>8.0</td>\n",
       "      <td>6.0</td>\n",
       "      <td>0.2</td>\n",
       "      <td>0.00</td>\n",
       "    </tr>\n",
       "    <tr>\n",
       "      <th>aminach</th>\n",
       "      <td>15.0</td>\n",
       "      <td>4.0</td>\n",
       "      <td>0.0</td>\n",
       "      <td>0.25</td>\n",
       "    </tr>\n",
       "    <tr>\n",
       "      <th>yes</th>\n",
       "      <td>10.0</td>\n",
       "      <td>8.0</td>\n",
       "      <td>0.0</td>\n",
       "      <td>0.25</td>\n",
       "    </tr>\n",
       "    <tr>\n",
       "      <th>tnuva</th>\n",
       "      <td>6.0</td>\n",
       "      <td>3.0</td>\n",
       "      <td>0.8</td>\n",
       "      <td>0.00</td>\n",
       "    </tr>\n",
       "    <tr>\n",
       "      <th>angel</th>\n",
       "      <td>1.0</td>\n",
       "      <td>5.0</td>\n",
       "      <td>0.1</td>\n",
       "      <td>0.00</td>\n",
       "    </tr>\n",
       "    <tr>\n",
       "      <th>hot</th>\n",
       "      <td>7.0</td>\n",
       "      <td>7.0</td>\n",
       "      <td>0.1</td>\n",
       "      <td>0.40</td>\n",
       "    </tr>\n",
       "    <tr>\n",
       "      <th>osem</th>\n",
       "      <td>12.0</td>\n",
       "      <td>4.0</td>\n",
       "      <td>0.2</td>\n",
       "      <td>0.00</td>\n",
       "    </tr>\n",
       "    <tr>\n",
       "      <th>iaf</th>\n",
       "      <td>20.0</td>\n",
       "      <td>10.0</td>\n",
       "      <td>0.2</td>\n",
       "      <td>0.50</td>\n",
       "    </tr>\n",
       "    <tr>\n",
       "      <th>tara</th>\n",
       "      <td>6.0</td>\n",
       "      <td>6.0</td>\n",
       "      <td>0.5</td>\n",
       "      <td>0.30</td>\n",
       "    </tr>\n",
       "    <tr>\n",
       "      <th>electricity</th>\n",
       "      <td>5.0</td>\n",
       "      <td>5.0</td>\n",
       "      <td>0.0</td>\n",
       "      <td>0.00</td>\n",
       "    </tr>\n",
       "    <tr>\n",
       "      <th>bituch_leumi</th>\n",
       "      <td>5.0</td>\n",
       "      <td>5.0</td>\n",
       "      <td>0.0</td>\n",
       "      <td>0.00</td>\n",
       "    </tr>\n",
       "  </tbody>\n",
       "</table>\n",
       "</div>"
      ],
      "text/plain": [
       "                basic_taarif  extra_milage  night_bonus  weekend_bonus\n",
       "customer                                                              \n",
       "jerusalem_muni           8.0           4.0          0.5           0.30\n",
       "intel                    8.0           6.0          0.2           0.00\n",
       "aminach                 15.0           4.0          0.0           0.25\n",
       "yes                     10.0           8.0          0.0           0.25\n",
       "tnuva                    6.0           3.0          0.8           0.00\n",
       "angel                    1.0           5.0          0.1           0.00\n",
       "hot                      7.0           7.0          0.1           0.40\n",
       "osem                    12.0           4.0          0.2           0.00\n",
       "iaf                     20.0          10.0          0.2           0.50\n",
       "tara                     6.0           6.0          0.5           0.30\n",
       "electricity              5.0           5.0          0.0           0.00\n",
       "bituch_leumi             5.0           5.0          0.0           0.00"
      ]
     },
     "execution_count": 2,
     "metadata": {},
     "output_type": "execute_result"
    }
   ],
   "source": [
    "taarif = pd.read_csv('taarif.csv', skiprows=[1], index_col='customer')\n",
    "translate_dict = {'mizranei_kfar_saba': 'aminach', 'dbs': 'yes', 'telecommunication_ltd': 'hot'}\n",
    "\n",
    "# translate names\n",
    "taarif.index = taarif.index.map(lambda s: translate_dict.get(s, s))\n",
    "taarif.loc[:, 'night_bonus':'weekend_bonus'] /= 100\n",
    "\n",
    "# fill in missing values\n",
    "taarif.loc['electricity'] = [5, 5, 0, 0]\n",
    "taarif.loc['bituch_leumi'] = [5, 5, 0, 0]\n",
    "\n",
    "# fix values which are too big\n",
    "taarif.loc['iaf', 'night_bonus':] /= 10\n",
    "taarif.loc['angel', 'night_bonus'] /= 10\n",
    "taarif.loc['jerusalem_muni', 'extra_milage'] /= 10\n",
    "\n",
    "taarif"
   ]
  },
  {
   "cell_type": "markdown",
   "id": "407f9823",
   "metadata": {},
   "source": [
    "## Drivers"
   ]
  },
  {
   "cell_type": "code",
   "execution_count": 3,
   "id": "45c23298",
   "metadata": {},
   "outputs": [],
   "source": [
    "new_drivers = pd.read_csv('new_drivers.csv', index_col=0)\n",
    "new_drivers['vetek'] /= 365\n",
    "senior_drivers = pd.read_csv('Drivers_with_kviut.csv', index_col=0)\n",
    "\n",
    "drivers = pd.concat([new_drivers, senior_drivers]).rename(columns={'id': 'driver_id'})\n",
    "drivers.birthdate = pd.to_datetime(drivers.birthdate)\n",
    "translate_dict = {**dict.fromkeys(['M', 'm', 'boy'], 'male'),\n",
    "                  **dict.fromkeys(['woman', 'F', 'girl'], 'female'),\n",
    "                 **dict.fromkeys(['unknown', 'none'], np.nan)}\n",
    "drivers.gender = drivers.gender.apply(lambda s: translate_dict.get(s, s))\n",
    "drivers.vetek = drivers.vetek.round(1)"
   ]
  },
  {
   "cell_type": "markdown",
   "id": "04ae83f6",
   "metadata": {},
   "source": [
    "### Handling missing values\n",
    "\n",
    "In case of missing or placeholder birthdate, I've set the age of the driver to be the median age.\n",
    "\n",
    "In case of missing gender, I've set the value to unknown"
   ]
  },
  {
   "cell_type": "code",
   "execution_count": 4,
   "id": "17c56d49",
   "metadata": {},
   "outputs": [],
   "source": [
    "drivers.loc[drivers.birthdate == '1900-01-01', 'birthdate'] = np.nan  # removing placeholder value\n",
    "drivers['age'] = ((pd.Timestamp('now') - drivers.birthdate) / pd.Timedelta(days=365.25)).round(1)\n",
    "drivers.gender = drivers.gender.fillna('unknown')"
   ]
  },
  {
   "cell_type": "markdown",
   "id": "4e63e05f",
   "metadata": {},
   "source": [
    "## Trips Data"
   ]
  },
  {
   "cell_type": "code",
   "execution_count": 5,
   "id": "c1e67c49",
   "metadata": {},
   "outputs": [
    {
     "name": "stderr",
     "output_type": "stream",
     "text": [
      "100%|██████████████████████████████████████████████████████████████████████████████████| 12/12 [00:30<00:00,  2.58s/it]\n"
     ]
    }
   ],
   "source": [
    "trip_dfs = {}\n",
    "for i in trange(1, 13):\n",
    "    month = month_name[i].lower()\n",
    "    trip_dfs[month] = {}\n",
    "    for file in Path('trips_data').glob(f'{month}*'):\n",
    "        df = pd.read_csv(file, index_col=0, parse_dates=['end_time', 'start_time'])\n",
    "        df['month'] = f'{i}/2015'\n",
    "        \n",
    "        truck_id = re.findall('\\d+', file.name)[1]\n",
    "        if truck_id not in trip_dfs[month]:\n",
    "            trip_dfs[month][truck_id] = df\n",
    "\n",
    "month_dfs = [pd.concat(trip_dfs[m].values()) for m in trip_dfs]\n",
    "trips = pd.concat(month_dfs, ignore_index=True)\n",
    "\n",
    "trips['duration'] = trips.end_time - trips.start_time\n",
    "trips['speed'] = trips.km / (trips.duration.dt.total_seconds() / 60 ** 2)\n",
    "\n",
    "# fixing trips with weird speeds and distances\n",
    "trips.loc[trips.speed < 40, 'speed'] = np.nan\n",
    "trips.loc[trips.speed < 40, 'end_time'] = pd.NaT\n",
    "\n",
    "trips.loc[trips.speed > 100, 'speed'] = np.nan\n",
    "trips.loc[trips.speed > 100, 'km'] = np.nan\n",
    "trips.loc[trips.speed > 100, 'end_time'] = pd.NaT\n",
    "\n",
    "trips.loc[trips.km > 1000, 'speed'] = np.nan\n",
    "trips.loc[trips.km > 1000, 'km'] = np.nan\n",
    "trips.loc[trips.km > 1000, 'end_time'] = pd.NaT"
   ]
  },
  {
   "cell_type": "markdown",
   "id": "ea0a223c",
   "metadata": {},
   "source": [
    "Filling in missing start and end values drives"
   ]
  },
  {
   "cell_type": "code",
   "execution_count": 6,
   "id": "05cf626d",
   "metadata": {},
   "outputs": [
    {
     "name": "stderr",
     "output_type": "stream",
     "text": [
      "100%|██████████████████████████████████████████████████████████████████████████████| 1000/1000 [00:10<00:00, 95.22it/s]\n",
      "100%|██████████████████████████████████████████████████████████████████████████████| 1000/1000 [00:19<00:00, 50.65it/s]\n"
     ]
    }
   ],
   "source": [
    "no_times_index = (trips.start_time.isna() & trips.end_time.isna())\n",
    "trips.loc[no_times_index, 'start_time'] = \\\n",
    "    pd.to_datetime(trips[no_times_index].month, format='%m/%Y') + pd.Timedelta(hours=6)\n",
    "\n",
    "for driver_id, df in tqdm(trips.groupby('driver_id')):\n",
    "    if df.km.isna().any():\n",
    "        trips.loc[trips.driver_id == driver_id, 'km'] = \\\n",
    "            trips.loc[trips.driver_id == driver_id, 'km'].fillna(df.km.mean())\n",
    "\n",
    "for driver_id, df in tqdm(trips.groupby('driver_id')):\n",
    "    if df.duration.isna().any():\n",
    "        trips.loc[trips.driver_id == driver_id, 'duration'] = \\\n",
    "            trips.loc[trips.driver_id == driver_id, 'duration'].fillna(\n",
    "                pd.to_timedelta(df[df.duration.isna()].km / df.speed.mean(), unit='h').round('60s'))\n",
    "        \n",
    "no_end = trips[trips.end_time.isna()]\n",
    "filled_end_times = no_end.start_time + no_end.duration\n",
    "trips.end_time = trips.end_time.fillna(filled_end_times)\n",
    "\n",
    "no_start = trips[trips.start_time.isna()]\n",
    "filled_start_times = no_start.end_time - no_start.duration\n",
    "trips.start_time = trips.start_time.fillna(filled_start_times)"
   ]
  },
  {
   "cell_type": "markdown",
   "id": "2e9ba169",
   "metadata": {},
   "source": [
    "\n",
    "Finding how much of each drive is during the night and during the weekend"
   ]
  },
  {
   "cell_type": "code",
   "execution_count": 7,
   "id": "f2e001ed",
   "metadata": {},
   "outputs": [],
   "source": [
    "class TimeRange:\n",
    "    def __init__(self, start, end):\n",
    "        assert start < end, 'Start must be smaller than end!'\n",
    "        self.start = start\n",
    "        self.end = end\n",
    "    \n",
    "    @property\n",
    "    def length(self):\n",
    "        return self.end - self.start\n",
    "    \n",
    "def get_overlap(range1, range2):\n",
    "    end = range1[1].clip(upper=range2[1]) \n",
    "    start = range1[0].clip(lower=range2[0]) \n",
    "    overlap = end - start \n",
    "    return overlap.clip(lower=delta0())\n",
    "\n",
    "def get_next_day(day, n=1):\n",
    "    return day + pd.Timedelta(days=n)\n",
    "    \n",
    "    \n",
    "def get_nights_in_range(time_range):\n",
    "    def get_last_night(day):\n",
    "        night_start = get_next_day(day, -1).replace(hour=22)\n",
    "        night_end = day.replace(hour=6)\n",
    "        return (night_start, night_end)\n",
    "\n",
    "    nights = []\n",
    "    for day in [get_next_day(time_range.start, i) for i in range(time_range.length.days + 2)]:\n",
    "        nights.append(get_last_night(day))\n",
    "    return nights\n",
    "\n",
    "\n",
    "def get_weekends_in_range(time_range):\n",
    "    def get_this_weekend(day):\n",
    "        friday = day + pd.Timedelta(days=4 - day.weekday())\n",
    "        saturday = friday + pd.Timedelta(days=1)\n",
    "        weekend = (friday.replace(hour=16), saturday.replace(hour=20))\n",
    "        return weekend\n",
    "    \n",
    "    weekends = []\n",
    "    if time_range.start.isoweekday() == 6:\n",
    "        weekends.append(get_this_weekend(time_range.start))\n",
    "        \n",
    "    for day in [get_next_day(time_range.start, i) for i in range(time_range.length.days + 2)]:\n",
    "        if day.isoweekday() == 5:\n",
    "            weekends.append(get_this_weekend(day))\n",
    "    return weekends\n",
    "\n",
    "\n",
    "trips['km_night'] = 0\n",
    "trips['km_weekend'] = 0\n",
    "trips['km_night_extra'] = 0\n",
    "trips['km_weekend_extra'] = 0\n",
    "\n",
    "trips['base_km'] = trips.km.clip(upper=200)\n",
    "trips['extra_km'] = (trips.km - 200).clip(lower=0)\n",
    "\n",
    "no_extra_index = trips.km <= 200\n",
    "trips['time_200'] = trips.start_time + trips.duration * 200 / trips.km\n",
    "trips.loc[no_extra_index, 'time_200'] = trips.end_time[no_extra_index]\n",
    "\n",
    "def compute_km_in_ranges(start_time, end_time, total_km, time_ranges):\n",
    "    total = delta0()\n",
    "    for time_range in time_ranges:\n",
    "        total += get_overlap((start_time, end_time), time_range)\n",
    "    return total / (end_time - start_time) * total_km\n",
    "    \n",
    "for m, df in trips.groupby(trips.start_time.dt.month):\n",
    "    m_index = trips.start_time.dt.month == m\n",
    "    nights = get_nights_in_range(TimeRange(df.start_time.min(), df.end_time.max()))\n",
    "    weekends = get_weekends_in_range(TimeRange(df.start_time.min(), df.end_time.max()))\n",
    "    \n",
    "    trips.loc[m_index, 'km_night'] = compute_km_in_ranges(df.start_time, df.time_200, df.base_km, nights)\n",
    "    trips.loc[m_index, 'km_weekend'] = compute_km_in_ranges(df.start_time, df.time_200, df.base_km, weekends)\n",
    "    trips.loc[m_index, 'km_night_extra'] = compute_km_in_ranges(df.time_200, df.end_time, df.extra_km, nights)\n",
    "    trips.loc[m_index, 'km_weekend_extra'] = compute_km_in_ranges(df.time_200, df.end_time, df.extra_km, weekends)\n",
    "\n",
    "trips[['km_night_extra', 'km_weekend_extra']] = trips[['km_night_extra', 'km_weekend_extra']].fillna(0)"
   ]
  },
  {
   "cell_type": "markdown",
   "id": "05d044b8",
   "metadata": {},
   "source": [
    "# Generate Summary"
   ]
  },
  {
   "cell_type": "code",
   "execution_count": 8,
   "id": "810e85fa",
   "metadata": {},
   "outputs": [],
   "source": [
    "trips['pay'] = 0\n",
    "for customer, df in trips.groupby('customer'):\n",
    "    rates = taarif.loc[customer]\n",
    "    pay = rates.basic_taarif * (df.base_km + rates.night_bonus * df.km_night + \n",
    "                                rates.weekend_bonus * df.km_weekend) + \\\n",
    "        rates.extra_milage * (df.extra_km + rates.night_bonus * df.km_night_extra + \n",
    "                              rates.weekend_bonus * df.km_weekend_extra)\n",
    "    trips.loc[trips.customer == customer, 'pay'] = pay\n",
    "trips.pay = trips.pay.clip(upper=trips.pay.quantile(0.99))"
   ]
  },
  {
   "cell_type": "code",
   "execution_count": 9,
   "id": "50410dd5",
   "metadata": {
    "scrolled": false
   },
   "outputs": [
    {
     "data": {
      "text/html": [
       "<div>\n",
       "<style scoped>\n",
       "    .dataframe tbody tr th:only-of-type {\n",
       "        vertical-align: middle;\n",
       "    }\n",
       "\n",
       "    .dataframe tbody tr th {\n",
       "        vertical-align: top;\n",
       "    }\n",
       "\n",
       "    .dataframe thead th {\n",
       "        text-align: right;\n",
       "    }\n",
       "</style>\n",
       "<table border=\"1\" class=\"dataframe\">\n",
       "  <thead>\n",
       "    <tr style=\"text-align: right;\">\n",
       "      <th></th>\n",
       "      <th>gender</th>\n",
       "      <th>driver_id</th>\n",
       "      <th>vetek</th>\n",
       "      <th>age</th>\n",
       "      <th>month</th>\n",
       "      <th>total_income</th>\n",
       "      <th>total_km</th>\n",
       "    </tr>\n",
       "  </thead>\n",
       "  <tbody>\n",
       "    <tr>\n",
       "      <th>0</th>\n",
       "      <td>female</td>\n",
       "      <td>943</td>\n",
       "      <td>0.6</td>\n",
       "      <td>55.8</td>\n",
       "      <td>1/2015</td>\n",
       "      <td>70216.0</td>\n",
       "      <td>8900.1</td>\n",
       "    </tr>\n",
       "    <tr>\n",
       "      <th>1</th>\n",
       "      <td>female</td>\n",
       "      <td>943</td>\n",
       "      <td>0.6</td>\n",
       "      <td>55.8</td>\n",
       "      <td>10/2015</td>\n",
       "      <td>77861.2</td>\n",
       "      <td>9091.6</td>\n",
       "    </tr>\n",
       "    <tr>\n",
       "      <th>2</th>\n",
       "      <td>female</td>\n",
       "      <td>943</td>\n",
       "      <td>0.6</td>\n",
       "      <td>55.8</td>\n",
       "      <td>11/2015</td>\n",
       "      <td>71337.0</td>\n",
       "      <td>9415.8</td>\n",
       "    </tr>\n",
       "    <tr>\n",
       "      <th>3</th>\n",
       "      <td>female</td>\n",
       "      <td>943</td>\n",
       "      <td>0.6</td>\n",
       "      <td>55.8</td>\n",
       "      <td>12/2015</td>\n",
       "      <td>78821.2</td>\n",
       "      <td>9961.8</td>\n",
       "    </tr>\n",
       "    <tr>\n",
       "      <th>4</th>\n",
       "      <td>female</td>\n",
       "      <td>943</td>\n",
       "      <td>0.6</td>\n",
       "      <td>55.8</td>\n",
       "      <td>2/2015</td>\n",
       "      <td>58235.7</td>\n",
       "      <td>8061.2</td>\n",
       "    </tr>\n",
       "    <tr>\n",
       "      <th>...</th>\n",
       "      <td>...</td>\n",
       "      <td>...</td>\n",
       "      <td>...</td>\n",
       "      <td>...</td>\n",
       "      <td>...</td>\n",
       "      <td>...</td>\n",
       "      <td>...</td>\n",
       "    </tr>\n",
       "    <tr>\n",
       "      <th>11995</th>\n",
       "      <td>male</td>\n",
       "      <td>609</td>\n",
       "      <td>4.6</td>\n",
       "      <td>NaN</td>\n",
       "      <td>5/2015</td>\n",
       "      <td>69500.3</td>\n",
       "      <td>8479.2</td>\n",
       "    </tr>\n",
       "    <tr>\n",
       "      <th>11996</th>\n",
       "      <td>male</td>\n",
       "      <td>609</td>\n",
       "      <td>4.6</td>\n",
       "      <td>NaN</td>\n",
       "      <td>6/2015</td>\n",
       "      <td>53489.1</td>\n",
       "      <td>7346.8</td>\n",
       "    </tr>\n",
       "    <tr>\n",
       "      <th>11997</th>\n",
       "      <td>male</td>\n",
       "      <td>609</td>\n",
       "      <td>4.6</td>\n",
       "      <td>NaN</td>\n",
       "      <td>7/2015</td>\n",
       "      <td>79004.5</td>\n",
       "      <td>9178.0</td>\n",
       "    </tr>\n",
       "    <tr>\n",
       "      <th>11998</th>\n",
       "      <td>male</td>\n",
       "      <td>609</td>\n",
       "      <td>4.6</td>\n",
       "      <td>NaN</td>\n",
       "      <td>8/2015</td>\n",
       "      <td>69640.9</td>\n",
       "      <td>7894.9</td>\n",
       "    </tr>\n",
       "    <tr>\n",
       "      <th>11999</th>\n",
       "      <td>male</td>\n",
       "      <td>609</td>\n",
       "      <td>4.6</td>\n",
       "      <td>NaN</td>\n",
       "      <td>9/2015</td>\n",
       "      <td>62683.5</td>\n",
       "      <td>7869.0</td>\n",
       "    </tr>\n",
       "  </tbody>\n",
       "</table>\n",
       "<p>12000 rows × 7 columns</p>\n",
       "</div>"
      ],
      "text/plain": [
       "       gender  driver_id  vetek   age    month  total_income  total_km\n",
       "0      female        943    0.6  55.8   1/2015       70216.0    8900.1\n",
       "1      female        943    0.6  55.8  10/2015       77861.2    9091.6\n",
       "2      female        943    0.6  55.8  11/2015       71337.0    9415.8\n",
       "3      female        943    0.6  55.8  12/2015       78821.2    9961.8\n",
       "4      female        943    0.6  55.8   2/2015       58235.7    8061.2\n",
       "...       ...        ...    ...   ...      ...           ...       ...\n",
       "11995    male        609    4.6   NaN   5/2015       69500.3    8479.2\n",
       "11996    male        609    4.6   NaN   6/2015       53489.1    7346.8\n",
       "11997    male        609    4.6   NaN   7/2015       79004.5    9178.0\n",
       "11998    male        609    4.6   NaN   8/2015       69640.9    7894.9\n",
       "11999    male        609    4.6   NaN   9/2015       62683.5    7869.0\n",
       "\n",
       "[12000 rows x 7 columns]"
      ]
     },
     "execution_count": 9,
     "metadata": {},
     "output_type": "execute_result"
    }
   ],
   "source": [
    "summary = trips.groupby(['month', 'driver_id']).agg({'pay': 'sum', 'km': 'sum'}).reset_index()\\\n",
    "    .round({'pay': 1, 'km': 1}).rename(columns={'km': 'total_km', 'pay': 'total_income'})\n",
    "summary = drivers.merge(summary, on='driver_id').drop(columns=['birthdate'])\n",
    "summary.to_csv('summary.csv')\n",
    "summary"
   ]
  },
  {
   "cell_type": "code",
   "execution_count": 10,
   "id": "a5668da7",
   "metadata": {},
   "outputs": [
    {
     "data": {
      "text/plain": [
       "total_income    67493.57\n",
       "total_km         8395.87\n",
       "dtype: float64"
      ]
     },
     "execution_count": 10,
     "metadata": {},
     "output_type": "execute_result"
    }
   ],
   "source": [
    "summary[['total_income', 'total_km']].mean().round(2)"
   ]
  },
  {
   "cell_type": "markdown",
   "id": "7fdb1c13",
   "metadata": {},
   "source": [
    "Each driver has a line in the summary table."
   ]
  },
  {
   "cell_type": "code",
   "execution_count": 11,
   "id": "afbf3d5e",
   "metadata": {},
   "outputs": [
    {
     "data": {
      "text/plain": [
       "12    1000\n",
       "dtype: int64"
      ]
     },
     "execution_count": 11,
     "metadata": {},
     "output_type": "execute_result"
    }
   ],
   "source": [
    "summary.groupby('driver_id').size().value_counts()"
   ]
  },
  {
   "cell_type": "markdown",
   "id": "5f3d980e",
   "metadata": {},
   "source": [
    "There are no missing values"
   ]
  },
  {
   "cell_type": "code",
   "execution_count": 32,
   "id": "c43f64b1",
   "metadata": {},
   "outputs": [
    {
     "data": {
      "image/png": "[encoded data removed]",
      "text/plain": [
       "<Figure size 432x288 with 1 Axes>"
      ]
     },
     "metadata": {
      "needs_background": "light"
     },
     "output_type": "display_data"
    },
    {
     "data": {
      "image/png": "[encoded data removed]",
      "text/plain": [
       "<Figure size 432x288 with 1 Axes>"
      ]
     },
     "metadata": {
      "needs_background": "light"
     },
     "output_type": "display_data"
    },
    {
     "data": {
      "image/png": "[encoded data removed]",
      "text/plain": [
       "<Figure size 432x288 with 1 Axes>"
      ]
     },
     "metadata": {
      "needs_background": "light"
     },
     "output_type": "display_data"
    },
    {
     "data": {
      "image/png": "[encoded data removed]",
      "text/plain": [
       "<Figure size 432x288 with 1 Axes>"
      ]
     },
     "metadata": {
      "needs_background": "light"
     },
     "output_type": "display_data"
    },
    {
     "data": {
      "image/png": "[encoded data removed]",
      "text/plain": [
       "<Figure size 432x288 with 1 Axes>"
      ]
     },
     "metadata": {
      "needs_background": "light"
     },
     "output_type": "display_data"
    }
   ],
   "source": [
    "summary.hist('total_income', bins=20)\n",
    "plt.title('Total Income Distribution')\n",
    "plt.xlabel('Income')\n",
    "plt.ylabel('Count')\n",
    "plt.show()\n",
    "\n",
    "summary.hist('total_km', bins=20)\n",
    "plt.title('Total Distance Distribution')\n",
    "plt.xlabel('Distance [KM]')\n",
    "plt.ylabel('Count')\n",
    "plt.show()\n",
    "\n",
    "trips.km.hist(bins=20)\n",
    "plt.title('Trip Distance Distribution')\n",
    "plt.xlabel('Distance [KM]')\n",
    "plt.ylabel('Count')\n",
    "plt.show()\n",
    "\n",
    "trips.pay.hist()\n",
    "plt.title('Average Trip Pay Distribution')\n",
    "plt.xlabel('Pay')\n",
    "plt.ylabel('Count')\n",
    "plt.show()\n",
    "\n",
    "trips.groupby(['month', 'driver_id']).size().hist()\n",
    "plt.title('Num Trips per Month and Driver')\n",
    "plt.xlabel('Trips')\n",
    "plt.ylabel('Count')\n",
    "plt.show()"
   ]
  }
 ],
 "metadata": {
  "kernelspec": {
   "display_name": "Python 3 (ipykernel)",
   "language": "python",
   "name": "python3"
  },
  "language_info": {
   "codemirror_mode": {
    "name": "ipython",
    "version": 3
   },
   "file_extension": ".py",
   "mimetype": "text/x-python",
   "name": "python",
   "nbconvert_exporter": "python",
   "pygments_lexer": "ipython3",
   "version": "3.9.7"
  }
 },
 "nbformat": 4,
 "nbformat_minor": 5
}
